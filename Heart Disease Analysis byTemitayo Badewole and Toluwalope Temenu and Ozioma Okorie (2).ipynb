{
 "cells": [
  {
   "cell_type": "markdown",
   "id": "7885d58a",
   "metadata": {},
   "source": [
    "Cardiovascular diseases (CVDs) are the number 1 cause of death globally, taking an estimated 17.9 million lives each year, which accounts for 31% of all deaths worldwide. Four out of 5CVD deaths are due to heart attacks and strokes, and one-third of these deaths occur prematurely in people under 70 years of age. Heart failure is a common event caused by CVDs and this dataset contains 11 features that can be used to predict a possible heart disease.\n",
    "\n",
    "People with cardiovascular disease or who are at high cardiovascular risk (due to the presence of one or more risk factors such as hypertension, diabetes, hyperlipidaemia or already established disease) need early detection and management wherein a machine learning model can be of great help."
   ]
  },
  {
   "cell_type": "markdown",
   "id": "baba8dc1",
   "metadata": {},
   "source": [
    "# Attribute Information\n",
    "#### Age: age of the patient [years]\n",
    "#### Sex: sex of the patient [M: Male, F: Female]\n",
    "#### ChestPainType: chest pain type [TA: Typical Angina, ATA: Atypical Angina, NAP: Non-Anginal Pain, ASY: Asymptomatic]\n",
    "#### RestingBP: resting blood pressure [mm Hg]\n",
    "#### Cholesterol: serum cholesterol [mm/dl]\n",
    "#### FastingBS: fasting blood sugar [1: if FastingBS > 120 mg/dl, 0: otherwise]\n",
    "#### RestingECG: resting electrocardiogram results [Normal: Normal, ST: having ST-T wave abnormality (T wave inversions and/or ST elevation or depression of > 0.05 mV), LVH: showing probable or definite left ventricular hypertrophy by Estes' criteria]\n",
    "#### MaxHR: maximum heart rate achieved [Numeric value between 60 and 202]\n",
    "#### ExerciseAngina: exercise-induced angina [Y: Yes, N: No]\n",
    "#### Oldpeak: oldpeak = ST [Numeric value measured in depression]\n",
    "#### ST_Slope: the slope of the peak exercise ST segment [Up: upsloping, Flat: flat, Down: downsloping]\n",
    "#### HeartDisease: output class [1: heart disease, 0: Normal]"
   ]
  },
  {
   "cell_type": "code",
   "execution_count": 1,
   "id": "a3a69917",
   "metadata": {},
   "outputs": [],
   "source": [
    "# Importing Libraries\n",
    "import numpy as np\n",
    "import pandas as pd\n",
    "import matplotlib.pyplot as plt"
   ]
  },
  {
   "cell_type": "code",
   "execution_count": 2,
   "id": "9791fe3a",
   "metadata": {},
   "outputs": [
    {
     "data": {
      "text/html": [
       "<div>\n",
       "<style scoped>\n",
       "    .dataframe tbody tr th:only-of-type {\n",
       "        vertical-align: middle;\n",
       "    }\n",
       "\n",
       "    .dataframe tbody tr th {\n",
       "        vertical-align: top;\n",
       "    }\n",
       "\n",
       "    .dataframe thead th {\n",
       "        text-align: right;\n",
       "    }\n",
       "</style>\n",
       "<table border=\"1\" class=\"dataframe\">\n",
       "  <thead>\n",
       "    <tr style=\"text-align: right;\">\n",
       "      <th></th>\n",
       "      <th>Age</th>\n",
       "      <th>Sex</th>\n",
       "      <th>ChestPainType</th>\n",
       "      <th>RestingBP</th>\n",
       "      <th>Cholesterol</th>\n",
       "      <th>FastingBS</th>\n",
       "      <th>RestingECG</th>\n",
       "      <th>MaxHR</th>\n",
       "      <th>ExerciseAngina</th>\n",
       "      <th>Oldpeak</th>\n",
       "      <th>ST_Slope</th>\n",
       "      <th>HeartDisease</th>\n",
       "    </tr>\n",
       "  </thead>\n",
       "  <tbody>\n",
       "    <tr>\n",
       "      <th>0</th>\n",
       "      <td>40</td>\n",
       "      <td>M</td>\n",
       "      <td>ATA</td>\n",
       "      <td>140</td>\n",
       "      <td>289</td>\n",
       "      <td>0</td>\n",
       "      <td>Normal</td>\n",
       "      <td>172</td>\n",
       "      <td>N</td>\n",
       "      <td>0.0</td>\n",
       "      <td>Up</td>\n",
       "      <td>0</td>\n",
       "    </tr>\n",
       "    <tr>\n",
       "      <th>1</th>\n",
       "      <td>49</td>\n",
       "      <td>F</td>\n",
       "      <td>NAP</td>\n",
       "      <td>160</td>\n",
       "      <td>180</td>\n",
       "      <td>0</td>\n",
       "      <td>Normal</td>\n",
       "      <td>156</td>\n",
       "      <td>N</td>\n",
       "      <td>1.0</td>\n",
       "      <td>Flat</td>\n",
       "      <td>1</td>\n",
       "    </tr>\n",
       "    <tr>\n",
       "      <th>2</th>\n",
       "      <td>37</td>\n",
       "      <td>M</td>\n",
       "      <td>ATA</td>\n",
       "      <td>130</td>\n",
       "      <td>283</td>\n",
       "      <td>0</td>\n",
       "      <td>ST</td>\n",
       "      <td>98</td>\n",
       "      <td>N</td>\n",
       "      <td>0.0</td>\n",
       "      <td>Up</td>\n",
       "      <td>0</td>\n",
       "    </tr>\n",
       "    <tr>\n",
       "      <th>3</th>\n",
       "      <td>48</td>\n",
       "      <td>F</td>\n",
       "      <td>ASY</td>\n",
       "      <td>138</td>\n",
       "      <td>214</td>\n",
       "      <td>0</td>\n",
       "      <td>Normal</td>\n",
       "      <td>108</td>\n",
       "      <td>Y</td>\n",
       "      <td>1.5</td>\n",
       "      <td>Flat</td>\n",
       "      <td>1</td>\n",
       "    </tr>\n",
       "    <tr>\n",
       "      <th>4</th>\n",
       "      <td>54</td>\n",
       "      <td>M</td>\n",
       "      <td>NAP</td>\n",
       "      <td>150</td>\n",
       "      <td>195</td>\n",
       "      <td>0</td>\n",
       "      <td>Normal</td>\n",
       "      <td>122</td>\n",
       "      <td>N</td>\n",
       "      <td>0.0</td>\n",
       "      <td>Up</td>\n",
       "      <td>0</td>\n",
       "    </tr>\n",
       "    <tr>\n",
       "      <th>...</th>\n",
       "      <td>...</td>\n",
       "      <td>...</td>\n",
       "      <td>...</td>\n",
       "      <td>...</td>\n",
       "      <td>...</td>\n",
       "      <td>...</td>\n",
       "      <td>...</td>\n",
       "      <td>...</td>\n",
       "      <td>...</td>\n",
       "      <td>...</td>\n",
       "      <td>...</td>\n",
       "      <td>...</td>\n",
       "    </tr>\n",
       "    <tr>\n",
       "      <th>913</th>\n",
       "      <td>45</td>\n",
       "      <td>M</td>\n",
       "      <td>TA</td>\n",
       "      <td>110</td>\n",
       "      <td>264</td>\n",
       "      <td>0</td>\n",
       "      <td>Normal</td>\n",
       "      <td>132</td>\n",
       "      <td>N</td>\n",
       "      <td>1.2</td>\n",
       "      <td>Flat</td>\n",
       "      <td>1</td>\n",
       "    </tr>\n",
       "    <tr>\n",
       "      <th>914</th>\n",
       "      <td>68</td>\n",
       "      <td>M</td>\n",
       "      <td>ASY</td>\n",
       "      <td>144</td>\n",
       "      <td>193</td>\n",
       "      <td>1</td>\n",
       "      <td>Normal</td>\n",
       "      <td>141</td>\n",
       "      <td>N</td>\n",
       "      <td>3.4</td>\n",
       "      <td>Flat</td>\n",
       "      <td>1</td>\n",
       "    </tr>\n",
       "    <tr>\n",
       "      <th>915</th>\n",
       "      <td>57</td>\n",
       "      <td>M</td>\n",
       "      <td>ASY</td>\n",
       "      <td>130</td>\n",
       "      <td>131</td>\n",
       "      <td>0</td>\n",
       "      <td>Normal</td>\n",
       "      <td>115</td>\n",
       "      <td>Y</td>\n",
       "      <td>1.2</td>\n",
       "      <td>Flat</td>\n",
       "      <td>1</td>\n",
       "    </tr>\n",
       "    <tr>\n",
       "      <th>916</th>\n",
       "      <td>57</td>\n",
       "      <td>F</td>\n",
       "      <td>ATA</td>\n",
       "      <td>130</td>\n",
       "      <td>236</td>\n",
       "      <td>0</td>\n",
       "      <td>LVH</td>\n",
       "      <td>174</td>\n",
       "      <td>N</td>\n",
       "      <td>0.0</td>\n",
       "      <td>Flat</td>\n",
       "      <td>1</td>\n",
       "    </tr>\n",
       "    <tr>\n",
       "      <th>917</th>\n",
       "      <td>38</td>\n",
       "      <td>M</td>\n",
       "      <td>NAP</td>\n",
       "      <td>138</td>\n",
       "      <td>175</td>\n",
       "      <td>0</td>\n",
       "      <td>Normal</td>\n",
       "      <td>173</td>\n",
       "      <td>N</td>\n",
       "      <td>0.0</td>\n",
       "      <td>Up</td>\n",
       "      <td>0</td>\n",
       "    </tr>\n",
       "  </tbody>\n",
       "</table>\n",
       "<p>918 rows × 12 columns</p>\n",
       "</div>"
      ],
      "text/plain": [
       "     Age Sex ChestPainType  RestingBP  Cholesterol  FastingBS RestingECG  \\\n",
       "0     40   M           ATA        140          289          0     Normal   \n",
       "1     49   F           NAP        160          180          0     Normal   \n",
       "2     37   M           ATA        130          283          0         ST   \n",
       "3     48   F           ASY        138          214          0     Normal   \n",
       "4     54   M           NAP        150          195          0     Normal   \n",
       "..   ...  ..           ...        ...          ...        ...        ...   \n",
       "913   45   M            TA        110          264          0     Normal   \n",
       "914   68   M           ASY        144          193          1     Normal   \n",
       "915   57   M           ASY        130          131          0     Normal   \n",
       "916   57   F           ATA        130          236          0        LVH   \n",
       "917   38   M           NAP        138          175          0     Normal   \n",
       "\n",
       "     MaxHR ExerciseAngina  Oldpeak ST_Slope  HeartDisease  \n",
       "0      172              N      0.0       Up             0  \n",
       "1      156              N      1.0     Flat             1  \n",
       "2       98              N      0.0       Up             0  \n",
       "3      108              Y      1.5     Flat             1  \n",
       "4      122              N      0.0       Up             0  \n",
       "..     ...            ...      ...      ...           ...  \n",
       "913    132              N      1.2     Flat             1  \n",
       "914    141              N      3.4     Flat             1  \n",
       "915    115              Y      1.2     Flat             1  \n",
       "916    174              N      0.0     Flat             1  \n",
       "917    173              N      0.0       Up             0  \n",
       "\n",
       "[918 rows x 12 columns]"
      ]
     },
     "execution_count": 2,
     "metadata": {},
     "output_type": "execute_result"
    }
   ],
   "source": [
    "data = pd.read_csv('heart.csv')\n",
    "data"
   ]
  },
  {
   "cell_type": "code",
   "execution_count": 3,
   "id": "b19e7afc",
   "metadata": {},
   "outputs": [
    {
     "name": "stdout",
     "output_type": "stream",
     "text": [
      "<class 'pandas.core.frame.DataFrame'>\n",
      "RangeIndex: 918 entries, 0 to 917\n",
      "Data columns (total 12 columns):\n",
      " #   Column          Non-Null Count  Dtype  \n",
      "---  ------          --------------  -----  \n",
      " 0   Age             918 non-null    int64  \n",
      " 1   Sex             918 non-null    object \n",
      " 2   ChestPainType   918 non-null    object \n",
      " 3   RestingBP       918 non-null    int64  \n",
      " 4   Cholesterol     918 non-null    int64  \n",
      " 5   FastingBS       918 non-null    int64  \n",
      " 6   RestingECG      918 non-null    object \n",
      " 7   MaxHR           918 non-null    int64  \n",
      " 8   ExerciseAngina  918 non-null    object \n",
      " 9   Oldpeak         918 non-null    float64\n",
      " 10  ST_Slope        918 non-null    object \n",
      " 11  HeartDisease    918 non-null    int64  \n",
      "dtypes: float64(1), int64(6), object(5)\n",
      "memory usage: 86.2+ KB\n"
     ]
    }
   ],
   "source": [
    "data.info()"
   ]
  },
  {
   "cell_type": "code",
   "execution_count": 4,
   "id": "170b92dd",
   "metadata": {},
   "outputs": [
    {
     "data": {
      "text/plain": [
       "0"
      ]
     },
     "execution_count": 4,
     "metadata": {},
     "output_type": "execute_result"
    }
   ],
   "source": [
    "data.duplicated().sum()"
   ]
  },
  {
   "cell_type": "code",
   "execution_count": 5,
   "id": "4f4c0dbb",
   "metadata": {},
   "outputs": [
    {
     "data": {
      "text/plain": [
       "Age               0\n",
       "Sex               0\n",
       "ChestPainType     0\n",
       "RestingBP         0\n",
       "Cholesterol       0\n",
       "FastingBS         0\n",
       "RestingECG        0\n",
       "MaxHR             0\n",
       "ExerciseAngina    0\n",
       "Oldpeak           0\n",
       "ST_Slope          0\n",
       "HeartDisease      0\n",
       "dtype: int64"
      ]
     },
     "execution_count": 5,
     "metadata": {},
     "output_type": "execute_result"
    }
   ],
   "source": [
    "data.isna().sum()"
   ]
  },
  {
   "cell_type": "markdown",
   "id": "40268679",
   "metadata": {},
   "source": [
    "## Transforming the Categorical columns"
   ]
  },
  {
   "cell_type": "code",
   "execution_count": 6,
   "id": "add5e582",
   "metadata": {},
   "outputs": [
    {
     "data": {
      "text/plain": [
       "array(['ATA', 'NAP', 'ASY', 'TA'], dtype=object)"
      ]
     },
     "execution_count": 6,
     "metadata": {},
     "output_type": "execute_result"
    }
   ],
   "source": [
    "data['ChestPainType'].unique()"
   ]
  },
  {
   "cell_type": "code",
   "execution_count": 7,
   "id": "234e0143",
   "metadata": {},
   "outputs": [
    {
     "data": {
      "text/plain": [
       "array(['M', 'F'], dtype=object)"
      ]
     },
     "execution_count": 7,
     "metadata": {},
     "output_type": "execute_result"
    }
   ],
   "source": [
    "data['Sex'].unique()"
   ]
  },
  {
   "cell_type": "code",
   "execution_count": 8,
   "id": "3cb1862f",
   "metadata": {},
   "outputs": [
    {
     "data": {
      "text/plain": [
       "array(['Normal', 'ST', 'LVH'], dtype=object)"
      ]
     },
     "execution_count": 8,
     "metadata": {},
     "output_type": "execute_result"
    }
   ],
   "source": [
    "data['RestingECG'].unique()"
   ]
  },
  {
   "cell_type": "code",
   "execution_count": 9,
   "id": "46e7a3e2",
   "metadata": {},
   "outputs": [
    {
     "data": {
      "text/plain": [
       "array(['N', 'Y'], dtype=object)"
      ]
     },
     "execution_count": 9,
     "metadata": {},
     "output_type": "execute_result"
    }
   ],
   "source": [
    "data['ExerciseAngina'].unique()"
   ]
  },
  {
   "cell_type": "code",
   "execution_count": 10,
   "id": "986a62a0",
   "metadata": {},
   "outputs": [
    {
     "data": {
      "text/plain": [
       "array(['Up', 'Flat', 'Down'], dtype=object)"
      ]
     },
     "execution_count": 10,
     "metadata": {},
     "output_type": "execute_result"
    }
   ],
   "source": [
    "data['ST_Slope'].unique()"
   ]
  },
  {
   "cell_type": "markdown",
   "id": "60880718",
   "metadata": {},
   "source": [
    "#### The Sex Column is a Nominal Data type consisting of Male and Female\n",
    "\n",
    "#### ChestPainType Follows a particular Order: TA- Typical Angina, ATA- Atypical Angina, NAP-Non Angina Pain, ASY- Asymptomatic\n",
    "\n",
    "#### The Sex Column is a Nominal Data type consisting of Male and Female\n",
    "\n",
    "#### ChestPainType Follows a particular Order: TA- Typical Angina, ATA- Atypical Angina, NAP-Non Angina Pain, ASY- Asymptomatic\n",
    "\n",
    "#### Resting ECG also follows the same order as is either Normal, ST- having ST-T wave abnormality( this is T wave inversions and/or ST elevation or depression of >0.05 mV), LVH-showing probable or definite left ventricular hypertrophy by Estes' criteria)\n",
    "\n",
    "#### ExerciseAnigina: Exercise induced angia N-No, Y-Yes\n",
    "\n",
    "#### STSlope: The slope of peak exercise ST segment; Up-uplsoping, Flat-flat, Down-downsloping\n",
    "\n",
    "#### Nominal Colunmns for OneHotEncoder: SEX, ExerciseAnigina\n",
    "\n",
    "#### Ordinal Columns for LabelEncoder: ChestPainType, RestingECG, STSlope"
   ]
  },
  {
   "cell_type": "code",
   "execution_count": 11,
   "id": "c46e7cba",
   "metadata": {},
   "outputs": [],
   "source": [
    "from sklearn.preprocessing import LabelEncoder, OneHotEncoder"
   ]
  },
  {
   "cell_type": "code",
   "execution_count": 12,
   "id": "40a30843",
   "metadata": {},
   "outputs": [],
   "source": [
    "encoder = LabelEncoder()"
   ]
  },
  {
   "cell_type": "code",
   "execution_count": 13,
   "id": "2a5c5588",
   "metadata": {},
   "outputs": [
    {
     "data": {
      "text/html": [
       "<div>\n",
       "<style scoped>\n",
       "    .dataframe tbody tr th:only-of-type {\n",
       "        vertical-align: middle;\n",
       "    }\n",
       "\n",
       "    .dataframe tbody tr th {\n",
       "        vertical-align: top;\n",
       "    }\n",
       "\n",
       "    .dataframe thead th {\n",
       "        text-align: right;\n",
       "    }\n",
       "</style>\n",
       "<table border=\"1\" class=\"dataframe\">\n",
       "  <thead>\n",
       "    <tr style=\"text-align: right;\">\n",
       "      <th></th>\n",
       "      <th>Age</th>\n",
       "      <th>Sex</th>\n",
       "      <th>ChestPainType</th>\n",
       "      <th>RestingBP</th>\n",
       "      <th>Cholesterol</th>\n",
       "      <th>FastingBS</th>\n",
       "      <th>RestingECG</th>\n",
       "      <th>MaxHR</th>\n",
       "      <th>ExerciseAngina</th>\n",
       "      <th>Oldpeak</th>\n",
       "      <th>ST_Slope</th>\n",
       "      <th>HeartDisease</th>\n",
       "    </tr>\n",
       "  </thead>\n",
       "  <tbody>\n",
       "    <tr>\n",
       "      <th>0</th>\n",
       "      <td>40</td>\n",
       "      <td>M</td>\n",
       "      <td>1</td>\n",
       "      <td>140</td>\n",
       "      <td>289</td>\n",
       "      <td>0</td>\n",
       "      <td>1</td>\n",
       "      <td>172</td>\n",
       "      <td>N</td>\n",
       "      <td>0.0</td>\n",
       "      <td>2</td>\n",
       "      <td>0</td>\n",
       "    </tr>\n",
       "    <tr>\n",
       "      <th>1</th>\n",
       "      <td>49</td>\n",
       "      <td>F</td>\n",
       "      <td>2</td>\n",
       "      <td>160</td>\n",
       "      <td>180</td>\n",
       "      <td>0</td>\n",
       "      <td>1</td>\n",
       "      <td>156</td>\n",
       "      <td>N</td>\n",
       "      <td>1.0</td>\n",
       "      <td>1</td>\n",
       "      <td>1</td>\n",
       "    </tr>\n",
       "    <tr>\n",
       "      <th>2</th>\n",
       "      <td>37</td>\n",
       "      <td>M</td>\n",
       "      <td>1</td>\n",
       "      <td>130</td>\n",
       "      <td>283</td>\n",
       "      <td>0</td>\n",
       "      <td>2</td>\n",
       "      <td>98</td>\n",
       "      <td>N</td>\n",
       "      <td>0.0</td>\n",
       "      <td>2</td>\n",
       "      <td>0</td>\n",
       "    </tr>\n",
       "    <tr>\n",
       "      <th>3</th>\n",
       "      <td>48</td>\n",
       "      <td>F</td>\n",
       "      <td>0</td>\n",
       "      <td>138</td>\n",
       "      <td>214</td>\n",
       "      <td>0</td>\n",
       "      <td>1</td>\n",
       "      <td>108</td>\n",
       "      <td>Y</td>\n",
       "      <td>1.5</td>\n",
       "      <td>1</td>\n",
       "      <td>1</td>\n",
       "    </tr>\n",
       "    <tr>\n",
       "      <th>4</th>\n",
       "      <td>54</td>\n",
       "      <td>M</td>\n",
       "      <td>2</td>\n",
       "      <td>150</td>\n",
       "      <td>195</td>\n",
       "      <td>0</td>\n",
       "      <td>1</td>\n",
       "      <td>122</td>\n",
       "      <td>N</td>\n",
       "      <td>0.0</td>\n",
       "      <td>2</td>\n",
       "      <td>0</td>\n",
       "    </tr>\n",
       "    <tr>\n",
       "      <th>...</th>\n",
       "      <td>...</td>\n",
       "      <td>...</td>\n",
       "      <td>...</td>\n",
       "      <td>...</td>\n",
       "      <td>...</td>\n",
       "      <td>...</td>\n",
       "      <td>...</td>\n",
       "      <td>...</td>\n",
       "      <td>...</td>\n",
       "      <td>...</td>\n",
       "      <td>...</td>\n",
       "      <td>...</td>\n",
       "    </tr>\n",
       "    <tr>\n",
       "      <th>913</th>\n",
       "      <td>45</td>\n",
       "      <td>M</td>\n",
       "      <td>3</td>\n",
       "      <td>110</td>\n",
       "      <td>264</td>\n",
       "      <td>0</td>\n",
       "      <td>1</td>\n",
       "      <td>132</td>\n",
       "      <td>N</td>\n",
       "      <td>1.2</td>\n",
       "      <td>1</td>\n",
       "      <td>1</td>\n",
       "    </tr>\n",
       "    <tr>\n",
       "      <th>914</th>\n",
       "      <td>68</td>\n",
       "      <td>M</td>\n",
       "      <td>0</td>\n",
       "      <td>144</td>\n",
       "      <td>193</td>\n",
       "      <td>1</td>\n",
       "      <td>1</td>\n",
       "      <td>141</td>\n",
       "      <td>N</td>\n",
       "      <td>3.4</td>\n",
       "      <td>1</td>\n",
       "      <td>1</td>\n",
       "    </tr>\n",
       "    <tr>\n",
       "      <th>915</th>\n",
       "      <td>57</td>\n",
       "      <td>M</td>\n",
       "      <td>0</td>\n",
       "      <td>130</td>\n",
       "      <td>131</td>\n",
       "      <td>0</td>\n",
       "      <td>1</td>\n",
       "      <td>115</td>\n",
       "      <td>Y</td>\n",
       "      <td>1.2</td>\n",
       "      <td>1</td>\n",
       "      <td>1</td>\n",
       "    </tr>\n",
       "    <tr>\n",
       "      <th>916</th>\n",
       "      <td>57</td>\n",
       "      <td>F</td>\n",
       "      <td>1</td>\n",
       "      <td>130</td>\n",
       "      <td>236</td>\n",
       "      <td>0</td>\n",
       "      <td>0</td>\n",
       "      <td>174</td>\n",
       "      <td>N</td>\n",
       "      <td>0.0</td>\n",
       "      <td>1</td>\n",
       "      <td>1</td>\n",
       "    </tr>\n",
       "    <tr>\n",
       "      <th>917</th>\n",
       "      <td>38</td>\n",
       "      <td>M</td>\n",
       "      <td>2</td>\n",
       "      <td>138</td>\n",
       "      <td>175</td>\n",
       "      <td>0</td>\n",
       "      <td>1</td>\n",
       "      <td>173</td>\n",
       "      <td>N</td>\n",
       "      <td>0.0</td>\n",
       "      <td>2</td>\n",
       "      <td>0</td>\n",
       "    </tr>\n",
       "  </tbody>\n",
       "</table>\n",
       "<p>918 rows × 12 columns</p>\n",
       "</div>"
      ],
      "text/plain": [
       "     Age Sex  ChestPainType  RestingBP  Cholesterol  FastingBS  RestingECG  \\\n",
       "0     40   M              1        140          289          0           1   \n",
       "1     49   F              2        160          180          0           1   \n",
       "2     37   M              1        130          283          0           2   \n",
       "3     48   F              0        138          214          0           1   \n",
       "4     54   M              2        150          195          0           1   \n",
       "..   ...  ..            ...        ...          ...        ...         ...   \n",
       "913   45   M              3        110          264          0           1   \n",
       "914   68   M              0        144          193          1           1   \n",
       "915   57   M              0        130          131          0           1   \n",
       "916   57   F              1        130          236          0           0   \n",
       "917   38   M              2        138          175          0           1   \n",
       "\n",
       "     MaxHR ExerciseAngina  Oldpeak  ST_Slope  HeartDisease  \n",
       "0      172              N      0.0         2             0  \n",
       "1      156              N      1.0         1             1  \n",
       "2       98              N      0.0         2             0  \n",
       "3      108              Y      1.5         1             1  \n",
       "4      122              N      0.0         2             0  \n",
       "..     ...            ...      ...       ...           ...  \n",
       "913    132              N      1.2         1             1  \n",
       "914    141              N      3.4         1             1  \n",
       "915    115              Y      1.2         1             1  \n",
       "916    174              N      0.0         1             1  \n",
       "917    173              N      0.0         2             0  \n",
       "\n",
       "[918 rows x 12 columns]"
      ]
     },
     "execution_count": 13,
     "metadata": {},
     "output_type": "execute_result"
    }
   ],
   "source": [
    "data[['ChestPainType', 'RestingECG', 'ST_Slope']] = data[['ChestPainType', 'RestingECG', 'ST_Slope']].apply(encoder.fit_transform)\n",
    "data"
   ]
  },
  {
   "cell_type": "code",
   "execution_count": 14,
   "id": "f40eec0a",
   "metadata": {},
   "outputs": [
    {
     "data": {
      "text/html": [
       "<div>\n",
       "<style scoped>\n",
       "    .dataframe tbody tr th:only-of-type {\n",
       "        vertical-align: middle;\n",
       "    }\n",
       "\n",
       "    .dataframe tbody tr th {\n",
       "        vertical-align: top;\n",
       "    }\n",
       "\n",
       "    .dataframe thead th {\n",
       "        text-align: right;\n",
       "    }\n",
       "</style>\n",
       "<table border=\"1\" class=\"dataframe\">\n",
       "  <thead>\n",
       "    <tr style=\"text-align: right;\">\n",
       "      <th></th>\n",
       "      <th>Age</th>\n",
       "      <th>ChestPainType</th>\n",
       "      <th>RestingBP</th>\n",
       "      <th>Cholesterol</th>\n",
       "      <th>FastingBS</th>\n",
       "      <th>RestingECG</th>\n",
       "      <th>MaxHR</th>\n",
       "      <th>Oldpeak</th>\n",
       "      <th>ST_Slope</th>\n",
       "      <th>HeartDisease</th>\n",
       "      <th>Sex_F</th>\n",
       "      <th>Sex_M</th>\n",
       "      <th>ExerciseAngina_N</th>\n",
       "      <th>ExerciseAngina_Y</th>\n",
       "    </tr>\n",
       "  </thead>\n",
       "  <tbody>\n",
       "    <tr>\n",
       "      <th>0</th>\n",
       "      <td>40</td>\n",
       "      <td>1</td>\n",
       "      <td>140</td>\n",
       "      <td>289</td>\n",
       "      <td>0</td>\n",
       "      <td>1</td>\n",
       "      <td>172</td>\n",
       "      <td>0.0</td>\n",
       "      <td>2</td>\n",
       "      <td>0</td>\n",
       "      <td>0</td>\n",
       "      <td>1</td>\n",
       "      <td>1</td>\n",
       "      <td>0</td>\n",
       "    </tr>\n",
       "    <tr>\n",
       "      <th>1</th>\n",
       "      <td>49</td>\n",
       "      <td>2</td>\n",
       "      <td>160</td>\n",
       "      <td>180</td>\n",
       "      <td>0</td>\n",
       "      <td>1</td>\n",
       "      <td>156</td>\n",
       "      <td>1.0</td>\n",
       "      <td>1</td>\n",
       "      <td>1</td>\n",
       "      <td>1</td>\n",
       "      <td>0</td>\n",
       "      <td>1</td>\n",
       "      <td>0</td>\n",
       "    </tr>\n",
       "    <tr>\n",
       "      <th>2</th>\n",
       "      <td>37</td>\n",
       "      <td>1</td>\n",
       "      <td>130</td>\n",
       "      <td>283</td>\n",
       "      <td>0</td>\n",
       "      <td>2</td>\n",
       "      <td>98</td>\n",
       "      <td>0.0</td>\n",
       "      <td>2</td>\n",
       "      <td>0</td>\n",
       "      <td>0</td>\n",
       "      <td>1</td>\n",
       "      <td>1</td>\n",
       "      <td>0</td>\n",
       "    </tr>\n",
       "    <tr>\n",
       "      <th>3</th>\n",
       "      <td>48</td>\n",
       "      <td>0</td>\n",
       "      <td>138</td>\n",
       "      <td>214</td>\n",
       "      <td>0</td>\n",
       "      <td>1</td>\n",
       "      <td>108</td>\n",
       "      <td>1.5</td>\n",
       "      <td>1</td>\n",
       "      <td>1</td>\n",
       "      <td>1</td>\n",
       "      <td>0</td>\n",
       "      <td>0</td>\n",
       "      <td>1</td>\n",
       "    </tr>\n",
       "    <tr>\n",
       "      <th>4</th>\n",
       "      <td>54</td>\n",
       "      <td>2</td>\n",
       "      <td>150</td>\n",
       "      <td>195</td>\n",
       "      <td>0</td>\n",
       "      <td>1</td>\n",
       "      <td>122</td>\n",
       "      <td>0.0</td>\n",
       "      <td>2</td>\n",
       "      <td>0</td>\n",
       "      <td>0</td>\n",
       "      <td>1</td>\n",
       "      <td>1</td>\n",
       "      <td>0</td>\n",
       "    </tr>\n",
       "    <tr>\n",
       "      <th>...</th>\n",
       "      <td>...</td>\n",
       "      <td>...</td>\n",
       "      <td>...</td>\n",
       "      <td>...</td>\n",
       "      <td>...</td>\n",
       "      <td>...</td>\n",
       "      <td>...</td>\n",
       "      <td>...</td>\n",
       "      <td>...</td>\n",
       "      <td>...</td>\n",
       "      <td>...</td>\n",
       "      <td>...</td>\n",
       "      <td>...</td>\n",
       "      <td>...</td>\n",
       "    </tr>\n",
       "    <tr>\n",
       "      <th>913</th>\n",
       "      <td>45</td>\n",
       "      <td>3</td>\n",
       "      <td>110</td>\n",
       "      <td>264</td>\n",
       "      <td>0</td>\n",
       "      <td>1</td>\n",
       "      <td>132</td>\n",
       "      <td>1.2</td>\n",
       "      <td>1</td>\n",
       "      <td>1</td>\n",
       "      <td>0</td>\n",
       "      <td>1</td>\n",
       "      <td>1</td>\n",
       "      <td>0</td>\n",
       "    </tr>\n",
       "    <tr>\n",
       "      <th>914</th>\n",
       "      <td>68</td>\n",
       "      <td>0</td>\n",
       "      <td>144</td>\n",
       "      <td>193</td>\n",
       "      <td>1</td>\n",
       "      <td>1</td>\n",
       "      <td>141</td>\n",
       "      <td>3.4</td>\n",
       "      <td>1</td>\n",
       "      <td>1</td>\n",
       "      <td>0</td>\n",
       "      <td>1</td>\n",
       "      <td>1</td>\n",
       "      <td>0</td>\n",
       "    </tr>\n",
       "    <tr>\n",
       "      <th>915</th>\n",
       "      <td>57</td>\n",
       "      <td>0</td>\n",
       "      <td>130</td>\n",
       "      <td>131</td>\n",
       "      <td>0</td>\n",
       "      <td>1</td>\n",
       "      <td>115</td>\n",
       "      <td>1.2</td>\n",
       "      <td>1</td>\n",
       "      <td>1</td>\n",
       "      <td>0</td>\n",
       "      <td>1</td>\n",
       "      <td>0</td>\n",
       "      <td>1</td>\n",
       "    </tr>\n",
       "    <tr>\n",
       "      <th>916</th>\n",
       "      <td>57</td>\n",
       "      <td>1</td>\n",
       "      <td>130</td>\n",
       "      <td>236</td>\n",
       "      <td>0</td>\n",
       "      <td>0</td>\n",
       "      <td>174</td>\n",
       "      <td>0.0</td>\n",
       "      <td>1</td>\n",
       "      <td>1</td>\n",
       "      <td>1</td>\n",
       "      <td>0</td>\n",
       "      <td>1</td>\n",
       "      <td>0</td>\n",
       "    </tr>\n",
       "    <tr>\n",
       "      <th>917</th>\n",
       "      <td>38</td>\n",
       "      <td>2</td>\n",
       "      <td>138</td>\n",
       "      <td>175</td>\n",
       "      <td>0</td>\n",
       "      <td>1</td>\n",
       "      <td>173</td>\n",
       "      <td>0.0</td>\n",
       "      <td>2</td>\n",
       "      <td>0</td>\n",
       "      <td>0</td>\n",
       "      <td>1</td>\n",
       "      <td>1</td>\n",
       "      <td>0</td>\n",
       "    </tr>\n",
       "  </tbody>\n",
       "</table>\n",
       "<p>918 rows × 14 columns</p>\n",
       "</div>"
      ],
      "text/plain": [
       "     Age  ChestPainType  RestingBP  Cholesterol  FastingBS  RestingECG  MaxHR  \\\n",
       "0     40              1        140          289          0           1    172   \n",
       "1     49              2        160          180          0           1    156   \n",
       "2     37              1        130          283          0           2     98   \n",
       "3     48              0        138          214          0           1    108   \n",
       "4     54              2        150          195          0           1    122   \n",
       "..   ...            ...        ...          ...        ...         ...    ...   \n",
       "913   45              3        110          264          0           1    132   \n",
       "914   68              0        144          193          1           1    141   \n",
       "915   57              0        130          131          0           1    115   \n",
       "916   57              1        130          236          0           0    174   \n",
       "917   38              2        138          175          0           1    173   \n",
       "\n",
       "     Oldpeak  ST_Slope  HeartDisease  Sex_F  Sex_M  ExerciseAngina_N  \\\n",
       "0        0.0         2             0      0      1                 1   \n",
       "1        1.0         1             1      1      0                 1   \n",
       "2        0.0         2             0      0      1                 1   \n",
       "3        1.5         1             1      1      0                 0   \n",
       "4        0.0         2             0      0      1                 1   \n",
       "..       ...       ...           ...    ...    ...               ...   \n",
       "913      1.2         1             1      0      1                 1   \n",
       "914      3.4         1             1      0      1                 1   \n",
       "915      1.2         1             1      0      1                 0   \n",
       "916      0.0         1             1      1      0                 1   \n",
       "917      0.0         2             0      0      1                 1   \n",
       "\n",
       "     ExerciseAngina_Y  \n",
       "0                   0  \n",
       "1                   0  \n",
       "2                   0  \n",
       "3                   1  \n",
       "4                   0  \n",
       "..                ...  \n",
       "913                 0  \n",
       "914                 0  \n",
       "915                 1  \n",
       "916                 0  \n",
       "917                 0  \n",
       "\n",
       "[918 rows x 14 columns]"
      ]
     },
     "execution_count": 14,
     "metadata": {},
     "output_type": "execute_result"
    }
   ],
   "source": [
    "data = pd.get_dummies(data, columns = ['Sex', 'ExerciseAngina'])\n",
    "data"
   ]
  },
  {
   "cell_type": "code",
   "execution_count": 15,
   "id": "7683f918",
   "metadata": {},
   "outputs": [
    {
     "name": "stdout",
     "output_type": "stream",
     "text": [
      "<class 'pandas.core.frame.DataFrame'>\n",
      "RangeIndex: 918 entries, 0 to 917\n",
      "Data columns (total 14 columns):\n",
      " #   Column            Non-Null Count  Dtype  \n",
      "---  ------            --------------  -----  \n",
      " 0   Age               918 non-null    int64  \n",
      " 1   ChestPainType     918 non-null    int32  \n",
      " 2   RestingBP         918 non-null    int64  \n",
      " 3   Cholesterol       918 non-null    int64  \n",
      " 4   FastingBS         918 non-null    int64  \n",
      " 5   RestingECG        918 non-null    int32  \n",
      " 6   MaxHR             918 non-null    int64  \n",
      " 7   Oldpeak           918 non-null    float64\n",
      " 8   ST_Slope          918 non-null    int32  \n",
      " 9   HeartDisease      918 non-null    int64  \n",
      " 10  Sex_F             918 non-null    uint8  \n",
      " 11  Sex_M             918 non-null    uint8  \n",
      " 12  ExerciseAngina_N  918 non-null    uint8  \n",
      " 13  ExerciseAngina_Y  918 non-null    uint8  \n",
      "dtypes: float64(1), int32(3), int64(6), uint8(4)\n",
      "memory usage: 64.7 KB\n"
     ]
    }
   ],
   "source": [
    "data.info()"
   ]
  },
  {
   "cell_type": "code",
   "execution_count": 16,
   "id": "1c514885",
   "metadata": {},
   "outputs": [
    {
     "data": {
      "text/html": [
       "<div>\n",
       "<style scoped>\n",
       "    .dataframe tbody tr th:only-of-type {\n",
       "        vertical-align: middle;\n",
       "    }\n",
       "\n",
       "    .dataframe tbody tr th {\n",
       "        vertical-align: top;\n",
       "    }\n",
       "\n",
       "    .dataframe thead th {\n",
       "        text-align: right;\n",
       "    }\n",
       "</style>\n",
       "<table border=\"1\" class=\"dataframe\">\n",
       "  <thead>\n",
       "    <tr style=\"text-align: right;\">\n",
       "      <th></th>\n",
       "      <th>Age</th>\n",
       "      <th>ChestPainType</th>\n",
       "      <th>RestingBP</th>\n",
       "      <th>Cholesterol</th>\n",
       "      <th>FastingBS</th>\n",
       "      <th>RestingECG</th>\n",
       "      <th>MaxHR</th>\n",
       "      <th>Oldpeak</th>\n",
       "      <th>ST_Slope</th>\n",
       "      <th>HeartDisease</th>\n",
       "      <th>Sex_F</th>\n",
       "      <th>Sex_M</th>\n",
       "      <th>ExerciseAngina_N</th>\n",
       "      <th>ExerciseAngina_Y</th>\n",
       "    </tr>\n",
       "  </thead>\n",
       "  <tbody>\n",
       "    <tr>\n",
       "      <th>count</th>\n",
       "      <td>918.000000</td>\n",
       "      <td>918.000000</td>\n",
       "      <td>918.000000</td>\n",
       "      <td>918.000000</td>\n",
       "      <td>918.000000</td>\n",
       "      <td>918.000000</td>\n",
       "      <td>918.000000</td>\n",
       "      <td>918.000000</td>\n",
       "      <td>918.000000</td>\n",
       "      <td>918.000000</td>\n",
       "      <td>918.000000</td>\n",
       "      <td>918.000000</td>\n",
       "      <td>918.000000</td>\n",
       "      <td>918.000000</td>\n",
       "    </tr>\n",
       "    <tr>\n",
       "      <th>mean</th>\n",
       "      <td>53.510893</td>\n",
       "      <td>0.781046</td>\n",
       "      <td>132.396514</td>\n",
       "      <td>198.799564</td>\n",
       "      <td>0.233115</td>\n",
       "      <td>0.989107</td>\n",
       "      <td>136.809368</td>\n",
       "      <td>0.887364</td>\n",
       "      <td>1.361656</td>\n",
       "      <td>0.553377</td>\n",
       "      <td>0.210240</td>\n",
       "      <td>0.789760</td>\n",
       "      <td>0.595861</td>\n",
       "      <td>0.404139</td>\n",
       "    </tr>\n",
       "    <tr>\n",
       "      <th>std</th>\n",
       "      <td>9.432617</td>\n",
       "      <td>0.956519</td>\n",
       "      <td>18.514154</td>\n",
       "      <td>109.384145</td>\n",
       "      <td>0.423046</td>\n",
       "      <td>0.631671</td>\n",
       "      <td>25.460334</td>\n",
       "      <td>1.066570</td>\n",
       "      <td>0.607056</td>\n",
       "      <td>0.497414</td>\n",
       "      <td>0.407701</td>\n",
       "      <td>0.407701</td>\n",
       "      <td>0.490992</td>\n",
       "      <td>0.490992</td>\n",
       "    </tr>\n",
       "    <tr>\n",
       "      <th>min</th>\n",
       "      <td>28.000000</td>\n",
       "      <td>0.000000</td>\n",
       "      <td>0.000000</td>\n",
       "      <td>0.000000</td>\n",
       "      <td>0.000000</td>\n",
       "      <td>0.000000</td>\n",
       "      <td>60.000000</td>\n",
       "      <td>-2.600000</td>\n",
       "      <td>0.000000</td>\n",
       "      <td>0.000000</td>\n",
       "      <td>0.000000</td>\n",
       "      <td>0.000000</td>\n",
       "      <td>0.000000</td>\n",
       "      <td>0.000000</td>\n",
       "    </tr>\n",
       "    <tr>\n",
       "      <th>25%</th>\n",
       "      <td>47.000000</td>\n",
       "      <td>0.000000</td>\n",
       "      <td>120.000000</td>\n",
       "      <td>173.250000</td>\n",
       "      <td>0.000000</td>\n",
       "      <td>1.000000</td>\n",
       "      <td>120.000000</td>\n",
       "      <td>0.000000</td>\n",
       "      <td>1.000000</td>\n",
       "      <td>0.000000</td>\n",
       "      <td>0.000000</td>\n",
       "      <td>1.000000</td>\n",
       "      <td>0.000000</td>\n",
       "      <td>0.000000</td>\n",
       "    </tr>\n",
       "    <tr>\n",
       "      <th>50%</th>\n",
       "      <td>54.000000</td>\n",
       "      <td>0.000000</td>\n",
       "      <td>130.000000</td>\n",
       "      <td>223.000000</td>\n",
       "      <td>0.000000</td>\n",
       "      <td>1.000000</td>\n",
       "      <td>138.000000</td>\n",
       "      <td>0.600000</td>\n",
       "      <td>1.000000</td>\n",
       "      <td>1.000000</td>\n",
       "      <td>0.000000</td>\n",
       "      <td>1.000000</td>\n",
       "      <td>1.000000</td>\n",
       "      <td>0.000000</td>\n",
       "    </tr>\n",
       "    <tr>\n",
       "      <th>75%</th>\n",
       "      <td>60.000000</td>\n",
       "      <td>2.000000</td>\n",
       "      <td>140.000000</td>\n",
       "      <td>267.000000</td>\n",
       "      <td>0.000000</td>\n",
       "      <td>1.000000</td>\n",
       "      <td>156.000000</td>\n",
       "      <td>1.500000</td>\n",
       "      <td>2.000000</td>\n",
       "      <td>1.000000</td>\n",
       "      <td>0.000000</td>\n",
       "      <td>1.000000</td>\n",
       "      <td>1.000000</td>\n",
       "      <td>1.000000</td>\n",
       "    </tr>\n",
       "    <tr>\n",
       "      <th>max</th>\n",
       "      <td>77.000000</td>\n",
       "      <td>3.000000</td>\n",
       "      <td>200.000000</td>\n",
       "      <td>603.000000</td>\n",
       "      <td>1.000000</td>\n",
       "      <td>2.000000</td>\n",
       "      <td>202.000000</td>\n",
       "      <td>6.200000</td>\n",
       "      <td>2.000000</td>\n",
       "      <td>1.000000</td>\n",
       "      <td>1.000000</td>\n",
       "      <td>1.000000</td>\n",
       "      <td>1.000000</td>\n",
       "      <td>1.000000</td>\n",
       "    </tr>\n",
       "  </tbody>\n",
       "</table>\n",
       "</div>"
      ],
      "text/plain": [
       "              Age  ChestPainType   RestingBP  Cholesterol   FastingBS  \\\n",
       "count  918.000000     918.000000  918.000000   918.000000  918.000000   \n",
       "mean    53.510893       0.781046  132.396514   198.799564    0.233115   \n",
       "std      9.432617       0.956519   18.514154   109.384145    0.423046   \n",
       "min     28.000000       0.000000    0.000000     0.000000    0.000000   \n",
       "25%     47.000000       0.000000  120.000000   173.250000    0.000000   \n",
       "50%     54.000000       0.000000  130.000000   223.000000    0.000000   \n",
       "75%     60.000000       2.000000  140.000000   267.000000    0.000000   \n",
       "max     77.000000       3.000000  200.000000   603.000000    1.000000   \n",
       "\n",
       "       RestingECG       MaxHR     Oldpeak    ST_Slope  HeartDisease  \\\n",
       "count  918.000000  918.000000  918.000000  918.000000    918.000000   \n",
       "mean     0.989107  136.809368    0.887364    1.361656      0.553377   \n",
       "std      0.631671   25.460334    1.066570    0.607056      0.497414   \n",
       "min      0.000000   60.000000   -2.600000    0.000000      0.000000   \n",
       "25%      1.000000  120.000000    0.000000    1.000000      0.000000   \n",
       "50%      1.000000  138.000000    0.600000    1.000000      1.000000   \n",
       "75%      1.000000  156.000000    1.500000    2.000000      1.000000   \n",
       "max      2.000000  202.000000    6.200000    2.000000      1.000000   \n",
       "\n",
       "            Sex_F       Sex_M  ExerciseAngina_N  ExerciseAngina_Y  \n",
       "count  918.000000  918.000000        918.000000        918.000000  \n",
       "mean     0.210240    0.789760          0.595861          0.404139  \n",
       "std      0.407701    0.407701          0.490992          0.490992  \n",
       "min      0.000000    0.000000          0.000000          0.000000  \n",
       "25%      0.000000    1.000000          0.000000          0.000000  \n",
       "50%      0.000000    1.000000          1.000000          0.000000  \n",
       "75%      0.000000    1.000000          1.000000          1.000000  \n",
       "max      1.000000    1.000000          1.000000          1.000000  "
      ]
     },
     "execution_count": 16,
     "metadata": {},
     "output_type": "execute_result"
    }
   ],
   "source": [
    "data.describe()"
   ]
  },
  {
   "cell_type": "code",
   "execution_count": 17,
   "id": "be05e375",
   "metadata": {},
   "outputs": [
    {
     "data": {
      "text/plain": [
       "Age                 0\n",
       "ChestPainType       0\n",
       "RestingBP           0\n",
       "Cholesterol         0\n",
       "FastingBS           0\n",
       "RestingECG          0\n",
       "MaxHR               0\n",
       "Oldpeak             0\n",
       "ST_Slope            0\n",
       "HeartDisease        0\n",
       "Sex_F               0\n",
       "Sex_M               0\n",
       "ExerciseAngina_N    0\n",
       "ExerciseAngina_Y    0\n",
       "dtype: int64"
      ]
     },
     "execution_count": 17,
     "metadata": {},
     "output_type": "execute_result"
    }
   ],
   "source": [
    "data.isna().sum()"
   ]
  },
  {
   "cell_type": "markdown",
   "id": "938a53e6",
   "metadata": {},
   "source": [
    "### Data appears clean "
   ]
  },
  {
   "cell_type": "markdown",
   "id": "f4ff25b3",
   "metadata": {},
   "source": [
    "##  EDA QUESTIONS AND ANSWERS"
   ]
  },
  {
   "cell_type": "markdown",
   "id": "ee2796f5",
   "metadata": {},
   "source": [
    "### 1. Since the HeartDisease is the output column, can we know the count of those who had Heart disease based on their Sex?"
   ]
  },
  {
   "cell_type": "code",
   "execution_count": 18,
   "id": "601e321b",
   "metadata": {},
   "outputs": [
    {
     "data": {
      "text/plain": [
       "Sex_F  Sex_M\n",
       "0      1        725\n",
       "1      0        193\n",
       "Name: HeartDisease, dtype: int64"
      ]
     },
     "execution_count": 18,
     "metadata": {},
     "output_type": "execute_result"
    }
   ],
   "source": [
    "data.groupby(['Sex_F', 'Sex_M'])['HeartDisease'].count()"
   ]
  },
  {
   "cell_type": "markdown",
   "id": "a9c77f80",
   "metadata": {},
   "source": [
    "### This shows that 725 men were diagnosed with heart disease while only 193 women had the same disease in a sample of 918 people"
   ]
  },
  {
   "cell_type": "markdown",
   "id": "672d1f9b",
   "metadata": {},
   "source": [
    "### 2. Can we find any underaged with Heart disease in this sample data?"
   ]
  },
  {
   "cell_type": "code",
   "execution_count": 19,
   "id": "150ab7b8",
   "metadata": {},
   "outputs": [
    {
     "data": {
      "text/plain": [
       "Age\n",
       "False    918\n",
       "Name: HeartDisease, dtype: int64"
      ]
     },
     "execution_count": 19,
     "metadata": {},
     "output_type": "execute_result"
    }
   ],
   "source": [
    "data.groupby(data['Age']<18).count()['HeartDisease']"
   ]
  },
  {
   "cell_type": "markdown",
   "id": "a208f522",
   "metadata": {},
   "source": [
    "#### This shows that no individual below the age of 18 who had the disease."
   ]
  },
  {
   "cell_type": "code",
   "execution_count": 20,
   "id": "9f30030c",
   "metadata": {},
   "outputs": [],
   "source": [
    "import seaborn as sns"
   ]
  },
  {
   "cell_type": "code",
   "execution_count": 21,
   "id": "d10663c0",
   "metadata": {},
   "outputs": [
    {
     "data": {
      "text/html": [
       "<style type=\"text/css\">\n",
       "#T_3ba80_row0_col0, #T_3ba80_row1_col1, #T_3ba80_row2_col2, #T_3ba80_row3_col3, #T_3ba80_row4_col4, #T_3ba80_row5_col5, #T_3ba80_row6_col6, #T_3ba80_row7_col7, #T_3ba80_row8_col8, #T_3ba80_row9_col9, #T_3ba80_row10_col10, #T_3ba80_row11_col11, #T_3ba80_row12_col12, #T_3ba80_row13_col13 {\n",
       "  background-color: #fff7ec;\n",
       "  color: #000000;\n",
       "}\n",
       "#T_3ba80_row0_col1, #T_3ba80_row4_col1, #T_3ba80_row11_col5 {\n",
       "  background-color: #cf2618;\n",
       "  color: #f1f1f1;\n",
       "}\n",
       "#T_3ba80_row0_col2, #T_3ba80_row5_col8 {\n",
       "  background-color: #eb5c41;\n",
       "  color: #f1f1f1;\n",
       "}\n",
       "#T_3ba80_row0_col3, #T_3ba80_row10_col2 {\n",
       "  background-color: #b40201;\n",
       "  color: #f1f1f1;\n",
       "}\n",
       "#T_3ba80_row0_col4, #T_3ba80_row10_col3 {\n",
       "  background-color: #ed6145;\n",
       "  color: #f1f1f1;\n",
       "}\n",
       "#T_3ba80_row0_col5, #T_3ba80_row5_col6, #T_3ba80_row8_col5, #T_3ba80_row12_col4 {\n",
       "  background-color: #bc0c08;\n",
       "  color: #f1f1f1;\n",
       "}\n",
       "#T_3ba80_row0_col6, #T_3ba80_row6_col5 {\n",
       "  background-color: #840000;\n",
       "  color: #f1f1f1;\n",
       "}\n",
       "#T_3ba80_row0_col7 {\n",
       "  background-color: #fc8f5b;\n",
       "  color: #000000;\n",
       "}\n",
       "#T_3ba80_row0_col8 {\n",
       "  background-color: #c4170f;\n",
       "  color: #f1f1f1;\n",
       "}\n",
       "#T_3ba80_row0_col9 {\n",
       "  background-color: #fc9c67;\n",
       "  color: #000000;\n",
       "}\n",
       "#T_3ba80_row0_col10, #T_3ba80_row4_col12 {\n",
       "  background-color: #f98455;\n",
       "  color: #f1f1f1;\n",
       "}\n",
       "#T_3ba80_row0_col11, #T_3ba80_row4_col9, #T_3ba80_row4_col13, #T_3ba80_row8_col6 {\n",
       "  background-color: #fc9863;\n",
       "  color: #000000;\n",
       "}\n",
       "#T_3ba80_row0_col12, #T_3ba80_row6_col3 {\n",
       "  background-color: #f16a4a;\n",
       "  color: #f1f1f1;\n",
       "}\n",
       "#T_3ba80_row0_col13, #T_3ba80_row13_col7 {\n",
       "  background-color: #fdb57e;\n",
       "  color: #000000;\n",
       "}\n",
       "#T_3ba80_row1_col0, #T_3ba80_row3_col2 {\n",
       "  background-color: #ce2417;\n",
       "  color: #f1f1f1;\n",
       "}\n",
       "#T_3ba80_row1_col2 {\n",
       "  background-color: #ae0000;\n",
       "  color: #f1f1f1;\n",
       "}\n",
       "#T_3ba80_row1_col3 {\n",
       "  background-color: #d93422;\n",
       "  color: #f1f1f1;\n",
       "}\n",
       "#T_3ba80_row1_col4, #T_3ba80_row7_col1, #T_3ba80_row11_col6 {\n",
       "  background-color: #ba0906;\n",
       "  color: #f1f1f1;\n",
       "}\n",
       "#T_3ba80_row1_col5, #T_3ba80_row6_col4, #T_3ba80_row6_col9, #T_3ba80_row10_col5 {\n",
       "  background-color: #a90000;\n",
       "  color: #f1f1f1;\n",
       "}\n",
       "#T_3ba80_row1_col6, #T_3ba80_row1_col8 {\n",
       "  background-color: #fb8b58;\n",
       "  color: #f1f1f1;\n",
       "}\n",
       "#T_3ba80_row1_col7 {\n",
       "  background-color: #cd2316;\n",
       "  color: #f1f1f1;\n",
       "}\n",
       "#T_3ba80_row1_col9, #T_3ba80_row10_col4 {\n",
       "  background-color: #ad0000;\n",
       "  color: #f1f1f1;\n",
       "}\n",
       "#T_3ba80_row1_col10 {\n",
       "  background-color: #fda56f;\n",
       "  color: #000000;\n",
       "}\n",
       "#T_3ba80_row1_col11 {\n",
       "  background-color: #f57850;\n",
       "  color: #f1f1f1;\n",
       "}\n",
       "#T_3ba80_row1_col12 {\n",
       "  background-color: #fdc68f;\n",
       "  color: #000000;\n",
       "}\n",
       "#T_3ba80_row1_col13, #T_3ba80_row5_col7 {\n",
       "  background-color: #e54e36;\n",
       "  color: #f1f1f1;\n",
       "}\n",
       "#T_3ba80_row2_col0 {\n",
       "  background-color: #f88053;\n",
       "  color: #f1f1f1;\n",
       "}\n",
       "#T_3ba80_row2_col1, #T_3ba80_row2_col4, #T_3ba80_row10_col7, #T_3ba80_row11_col8 {\n",
       "  background-color: #d93523;\n",
       "  color: #f1f1f1;\n",
       "}\n",
       "#T_3ba80_row2_col3, #T_3ba80_row8_col13 {\n",
       "  background-color: #de3f2b;\n",
       "  color: #f1f1f1;\n",
       "}\n",
       "#T_3ba80_row2_col5, #T_3ba80_row13_col3 {\n",
       "  background-color: #c3150e;\n",
       "  color: #f1f1f1;\n",
       "}\n",
       "#T_3ba80_row2_col6 {\n",
       "  background-color: #ca1e14;\n",
       "  color: #f1f1f1;\n",
       "}\n",
       "#T_3ba80_row2_col7 {\n",
       "  background-color: #f67b51;\n",
       "  color: #f1f1f1;\n",
       "}\n",
       "#T_3ba80_row2_col8 {\n",
       "  background-color: #e24933;\n",
       "  color: #f1f1f1;\n",
       "}\n",
       "#T_3ba80_row2_col9 {\n",
       "  background-color: #f4764f;\n",
       "  color: #f1f1f1;\n",
       "}\n",
       "#T_3ba80_row2_col10 {\n",
       "  background-color: #fc8c59;\n",
       "  color: #f1f1f1;\n",
       "}\n",
       "#T_3ba80_row2_col11 {\n",
       "  background-color: #fc8e5a;\n",
       "  color: #f1f1f1;\n",
       "}\n",
       "#T_3ba80_row2_col12, #T_3ba80_row8_col11 {\n",
       "  background-color: #f4754f;\n",
       "  color: #f1f1f1;\n",
       "}\n",
       "#T_3ba80_row2_col13, #T_3ba80_row8_col10 {\n",
       "  background-color: #fda973;\n",
       "  color: #000000;\n",
       "}\n",
       "#T_3ba80_row3_col0, #T_3ba80_row3_col9 {\n",
       "  background-color: #cb2015;\n",
       "  color: #f1f1f1;\n",
       "}\n",
       "#T_3ba80_row3_col1 {\n",
       "  background-color: #e55038;\n",
       "  color: #f1f1f1;\n",
       "}\n",
       "#T_3ba80_row3_col4, #T_3ba80_row3_col5, #T_3ba80_row4_col3, #T_3ba80_row6_col0, #T_3ba80_row8_col7, #T_3ba80_row8_col9, #T_3ba80_row9_col1, #T_3ba80_row9_col6, #T_3ba80_row9_col8, #T_3ba80_row10_col11, #T_3ba80_row11_col10, #T_3ba80_row12_col2, #T_3ba80_row12_col13, #T_3ba80_row13_col12 {\n",
       "  background-color: #7f0000;\n",
       "  color: #f1f1f1;\n",
       "}\n",
       "#T_3ba80_row3_col6, #T_3ba80_row10_col8 {\n",
       "  background-color: #f77f53;\n",
       "  color: #f1f1f1;\n",
       "}\n",
       "#T_3ba80_row3_col7, #T_3ba80_row4_col7, #T_3ba80_row10_col1 {\n",
       "  background-color: #ee6246;\n",
       "  color: #f1f1f1;\n",
       "}\n",
       "#T_3ba80_row3_col8, #T_3ba80_row8_col1, #T_3ba80_row13_col0 {\n",
       "  background-color: #f57750;\n",
       "  color: #f1f1f1;\n",
       "}\n",
       "#T_3ba80_row3_col10 {\n",
       "  background-color: #fdb27b;\n",
       "  color: #000000;\n",
       "}\n",
       "#T_3ba80_row3_col11 {\n",
       "  background-color: #f26d4b;\n",
       "  color: #f1f1f1;\n",
       "}\n",
       "#T_3ba80_row3_col12 {\n",
       "  background-color: #fc935f;\n",
       "  color: #000000;\n",
       "}\n",
       "#T_3ba80_row3_col13, #T_3ba80_row9_col0 {\n",
       "  background-color: #fa8757;\n",
       "  color: #f1f1f1;\n",
       "}\n",
       "#T_3ba80_row4_col0, #T_3ba80_row9_col4, #T_3ba80_row10_col6 {\n",
       "  background-color: #f4734e;\n",
       "  color: #f1f1f1;\n",
       "}\n",
       "#T_3ba80_row4_col2, #T_3ba80_row4_col6 {\n",
       "  background-color: #c61a11;\n",
       "  color: #f1f1f1;\n",
       "}\n",
       "#T_3ba80_row4_col5, #T_3ba80_row10_col0 {\n",
       "  background-color: #d32a1b;\n",
       "  color: #f1f1f1;\n",
       "}\n",
       "#T_3ba80_row4_col8 {\n",
       "  background-color: #d52d1d;\n",
       "  color: #f1f1f1;\n",
       "}\n",
       "#T_3ba80_row4_col10 {\n",
       "  background-color: #f67a51;\n",
       "  color: #f1f1f1;\n",
       "}\n",
       "#T_3ba80_row4_col11 {\n",
       "  background-color: #fca36e;\n",
       "  color: #000000;\n",
       "}\n",
       "#T_3ba80_row5_col0 {\n",
       "  background-color: #db3926;\n",
       "  color: #f1f1f1;\n",
       "}\n",
       "#T_3ba80_row5_col1, #T_3ba80_row6_col7, #T_3ba80_row9_col2, #T_3ba80_row13_col5 {\n",
       "  background-color: #d12719;\n",
       "  color: #f1f1f1;\n",
       "}\n",
       "#T_3ba80_row5_col2 {\n",
       "  background-color: #bb0b07;\n",
       "  color: #f1f1f1;\n",
       "}\n",
       "#T_3ba80_row5_col3 {\n",
       "  background-color: #940000;\n",
       "  color: #f1f1f1;\n",
       "}\n",
       "#T_3ba80_row5_col4, #T_3ba80_row7_col2 {\n",
       "  background-color: #dc3a27;\n",
       "  color: #f1f1f1;\n",
       "}\n",
       "#T_3ba80_row5_col9 {\n",
       "  background-color: #f16c4b;\n",
       "  color: #f1f1f1;\n",
       "}\n",
       "#T_3ba80_row5_col10, #T_3ba80_row5_col12, #T_3ba80_row7_col0 {\n",
       "  background-color: #f88154;\n",
       "  color: #f1f1f1;\n",
       "}\n",
       "#T_3ba80_row5_col11, #T_3ba80_row5_col13 {\n",
       "  background-color: #fc9b66;\n",
       "  color: #000000;\n",
       "}\n",
       "#T_3ba80_row6_col1 {\n",
       "  background-color: #fb8957;\n",
       "  color: #f1f1f1;\n",
       "}\n",
       "#T_3ba80_row6_col2, #T_3ba80_row7_col8 {\n",
       "  background-color: #8e0000;\n",
       "  color: #f1f1f1;\n",
       "}\n",
       "#T_3ba80_row6_col8 {\n",
       "  background-color: #fdab75;\n",
       "  color: #000000;\n",
       "}\n",
       "#T_3ba80_row6_col10, #T_3ba80_row10_col12, #T_3ba80_row11_col13, #T_3ba80_row12_col10, #T_3ba80_row13_col11 {\n",
       "  background-color: #fdb07a;\n",
       "  color: #000000;\n",
       "}\n",
       "#T_3ba80_row6_col11, #T_3ba80_row10_col13, #T_3ba80_row11_col7, #T_3ba80_row11_col12, #T_3ba80_row12_col11, #T_3ba80_row13_col10 {\n",
       "  background-color: #f26e4c;\n",
       "  color: #f1f1f1;\n",
       "}\n",
       "#T_3ba80_row6_col12 {\n",
       "  background-color: #fdc791;\n",
       "  color: #000000;\n",
       "}\n",
       "#T_3ba80_row6_col13 {\n",
       "  background-color: #e34b34;\n",
       "  color: #f1f1f1;\n",
       "}\n",
       "#T_3ba80_row7_col3, #T_3ba80_row7_col4 {\n",
       "  background-color: #d62f1e;\n",
       "  color: #f1f1f1;\n",
       "}\n",
       "#T_3ba80_row7_col5 {\n",
       "  background-color: #b90805;\n",
       "  color: #f1f1f1;\n",
       "}\n",
       "#T_3ba80_row7_col6 {\n",
       "  background-color: #c0110b;\n",
       "  color: #f1f1f1;\n",
       "}\n",
       "#T_3ba80_row7_col9 {\n",
       "  background-color: #fdb982;\n",
       "  color: #000000;\n",
       "}\n",
       "#T_3ba80_row7_col10 {\n",
       "  background-color: #f67c52;\n",
       "  color: #f1f1f1;\n",
       "}\n",
       "#T_3ba80_row7_col11, #T_3ba80_row11_col9 {\n",
       "  background-color: #fca06b;\n",
       "  color: #000000;\n",
       "}\n",
       "#T_3ba80_row7_col12, #T_3ba80_row8_col3 {\n",
       "  background-color: #df432d;\n",
       "  color: #f1f1f1;\n",
       "}\n",
       "#T_3ba80_row7_col13 {\n",
       "  background-color: #fdcb95;\n",
       "  color: #000000;\n",
       "}\n",
       "#T_3ba80_row8_col0, #T_3ba80_row13_col8 {\n",
       "  background-color: #a10000;\n",
       "  color: #f1f1f1;\n",
       "}\n",
       "#T_3ba80_row8_col2, #T_3ba80_row8_col4 {\n",
       "  background-color: #9b0000;\n",
       "  color: #f1f1f1;\n",
       "}\n",
       "#T_3ba80_row8_col12 {\n",
       "  background-color: #fdcd96;\n",
       "  color: #000000;\n",
       "}\n",
       "#T_3ba80_row9_col3, #T_3ba80_row13_col1, #T_3ba80_row13_col6 {\n",
       "  background-color: #870000;\n",
       "  color: #f1f1f1;\n",
       "}\n",
       "#T_3ba80_row9_col5 {\n",
       "  background-color: #cc2116;\n",
       "  color: #f1f1f1;\n",
       "}\n",
       "#T_3ba80_row9_col7 {\n",
       "  background-color: #fdb37d;\n",
       "  color: #000000;\n",
       "}\n",
       "#T_3ba80_row9_col10 {\n",
       "  background-color: #e9583e;\n",
       "  color: #f1f1f1;\n",
       "}\n",
       "#T_3ba80_row9_col11 {\n",
       "  background-color: #fdc18a;\n",
       "  color: #000000;\n",
       "}\n",
       "#T_3ba80_row9_col12 {\n",
       "  background-color: #d7301f;\n",
       "  color: #f1f1f1;\n",
       "}\n",
       "#T_3ba80_row9_col13 {\n",
       "  background-color: #fdd49e;\n",
       "  color: #000000;\n",
       "}\n",
       "#T_3ba80_row10_col9 {\n",
       "  background-color: #bd0e09;\n",
       "  color: #f1f1f1;\n",
       "}\n",
       "#T_3ba80_row11_col0 {\n",
       "  background-color: #e44d35;\n",
       "  color: #f1f1f1;\n",
       "}\n",
       "#T_3ba80_row11_col1 {\n",
       "  background-color: #c51810;\n",
       "  color: #f1f1f1;\n",
       "}\n",
       "#T_3ba80_row11_col2 {\n",
       "  background-color: #b70503;\n",
       "  color: #f1f1f1;\n",
       "}\n",
       "#T_3ba80_row11_col3 {\n",
       "  background-color: #930000;\n",
       "  color: #f1f1f1;\n",
       "}\n",
       "#T_3ba80_row11_col4 {\n",
       "  background-color: #e14630;\n",
       "  color: #f1f1f1;\n",
       "}\n",
       "#T_3ba80_row12_col0 {\n",
       "  background-color: #b00000;\n",
       "  color: #f1f1f1;\n",
       "}\n",
       "#T_3ba80_row12_col1 {\n",
       "  background-color: #fc9964;\n",
       "  color: #000000;\n",
       "}\n",
       "#T_3ba80_row12_col3 {\n",
       "  background-color: #d2291a;\n",
       "  color: #f1f1f1;\n",
       "}\n",
       "#T_3ba80_row12_col5 {\n",
       "  background-color: #a80000;\n",
       "  color: #f1f1f1;\n",
       "}\n",
       "#T_3ba80_row12_col6 {\n",
       "  background-color: #fc9f6a;\n",
       "  color: #000000;\n",
       "}\n",
       "#T_3ba80_row12_col7 {\n",
       "  background-color: #970000;\n",
       "  color: #f1f1f1;\n",
       "}\n",
       "#T_3ba80_row12_col8 {\n",
       "  background-color: #fdbd86;\n",
       "  color: #000000;\n",
       "}\n",
       "#T_3ba80_row12_col9 {\n",
       "  background-color: #8f0000;\n",
       "  color: #f1f1f1;\n",
       "}\n",
       "#T_3ba80_row13_col2 {\n",
       "  background-color: #da3724;\n",
       "  color: #f1f1f1;\n",
       "}\n",
       "#T_3ba80_row13_col4 {\n",
       "  background-color: #d83221;\n",
       "  color: #f1f1f1;\n",
       "}\n",
       "#T_3ba80_row13_col9 {\n",
       "  background-color: #fdc58e;\n",
       "  color: #000000;\n",
       "}\n",
       "</style>\n",
       "<table id=\"T_3ba80\">\n",
       "  <thead>\n",
       "    <tr>\n",
       "      <th class=\"blank level0\" >&nbsp;</th>\n",
       "      <th id=\"T_3ba80_level0_col0\" class=\"col_heading level0 col0\" >Age</th>\n",
       "      <th id=\"T_3ba80_level0_col1\" class=\"col_heading level0 col1\" >ChestPainType</th>\n",
       "      <th id=\"T_3ba80_level0_col2\" class=\"col_heading level0 col2\" >RestingBP</th>\n",
       "      <th id=\"T_3ba80_level0_col3\" class=\"col_heading level0 col3\" >Cholesterol</th>\n",
       "      <th id=\"T_3ba80_level0_col4\" class=\"col_heading level0 col4\" >FastingBS</th>\n",
       "      <th id=\"T_3ba80_level0_col5\" class=\"col_heading level0 col5\" >RestingECG</th>\n",
       "      <th id=\"T_3ba80_level0_col6\" class=\"col_heading level0 col6\" >MaxHR</th>\n",
       "      <th id=\"T_3ba80_level0_col7\" class=\"col_heading level0 col7\" >Oldpeak</th>\n",
       "      <th id=\"T_3ba80_level0_col8\" class=\"col_heading level0 col8\" >ST_Slope</th>\n",
       "      <th id=\"T_3ba80_level0_col9\" class=\"col_heading level0 col9\" >HeartDisease</th>\n",
       "      <th id=\"T_3ba80_level0_col10\" class=\"col_heading level0 col10\" >Sex_F</th>\n",
       "      <th id=\"T_3ba80_level0_col11\" class=\"col_heading level0 col11\" >Sex_M</th>\n",
       "      <th id=\"T_3ba80_level0_col12\" class=\"col_heading level0 col12\" >ExerciseAngina_N</th>\n",
       "      <th id=\"T_3ba80_level0_col13\" class=\"col_heading level0 col13\" >ExerciseAngina_Y</th>\n",
       "    </tr>\n",
       "  </thead>\n",
       "  <tbody>\n",
       "    <tr>\n",
       "      <th id=\"T_3ba80_level0_row0\" class=\"row_heading level0 row0\" >Age</th>\n",
       "      <td id=\"T_3ba80_row0_col0\" class=\"data row0 col0\" >1.000000</td>\n",
       "      <td id=\"T_3ba80_row0_col1\" class=\"data row0 col1\" >-0.077150</td>\n",
       "      <td id=\"T_3ba80_row0_col2\" class=\"data row0 col2\" >0.254399</td>\n",
       "      <td id=\"T_3ba80_row0_col3\" class=\"data row0 col3\" >-0.095282</td>\n",
       "      <td id=\"T_3ba80_row0_col4\" class=\"data row0 col4\" >0.198039</td>\n",
       "      <td id=\"T_3ba80_row0_col5\" class=\"data row0 col5\" >-0.007484</td>\n",
       "      <td id=\"T_3ba80_row0_col6\" class=\"data row0 col6\" >-0.382045</td>\n",
       "      <td id=\"T_3ba80_row0_col7\" class=\"data row0 col7\" >0.258612</td>\n",
       "      <td id=\"T_3ba80_row0_col8\" class=\"data row0 col8\" >-0.268264</td>\n",
       "      <td id=\"T_3ba80_row0_col9\" class=\"data row0 col9\" >0.282039</td>\n",
       "      <td id=\"T_3ba80_row0_col10\" class=\"data row0 col10\" >-0.055750</td>\n",
       "      <td id=\"T_3ba80_row0_col11\" class=\"data row0 col11\" >0.055750</td>\n",
       "      <td id=\"T_3ba80_row0_col12\" class=\"data row0 col12\" >-0.215793</td>\n",
       "      <td id=\"T_3ba80_row0_col13\" class=\"data row0 col13\" >0.215793</td>\n",
       "    </tr>\n",
       "    <tr>\n",
       "      <th id=\"T_3ba80_level0_row1\" class=\"row_heading level0 row1\" >ChestPainType</th>\n",
       "      <td id=\"T_3ba80_row1_col0\" class=\"data row1 col0\" >-0.077150</td>\n",
       "      <td id=\"T_3ba80_row1_col1\" class=\"data row1 col1\" >1.000000</td>\n",
       "      <td id=\"T_3ba80_row1_col2\" class=\"data row1 col2\" >-0.020647</td>\n",
       "      <td id=\"T_3ba80_row1_col3\" class=\"data row1 col3\" >0.067880</td>\n",
       "      <td id=\"T_3ba80_row1_col4\" class=\"data row1 col4\" >-0.073151</td>\n",
       "      <td id=\"T_3ba80_row1_col5\" class=\"data row1 col5\" >-0.072537</td>\n",
       "      <td id=\"T_3ba80_row1_col6\" class=\"data row1 col6\" >0.289123</td>\n",
       "      <td id=\"T_3ba80_row1_col7\" class=\"data row1 col7\" >-0.177377</td>\n",
       "      <td id=\"T_3ba80_row1_col8\" class=\"data row1 col8\" >0.213521</td>\n",
       "      <td id=\"T_3ba80_row1_col9\" class=\"data row1 col9\" >-0.386828</td>\n",
       "      <td id=\"T_3ba80_row1_col10\" class=\"data row1 col10\" >0.126559</td>\n",
       "      <td id=\"T_3ba80_row1_col11\" class=\"data row1 col11\" >-0.126559</td>\n",
       "      <td id=\"T_3ba80_row1_col12\" class=\"data row1 col12\" >0.354727</td>\n",
       "      <td id=\"T_3ba80_row1_col13\" class=\"data row1 col13\" >-0.354727</td>\n",
       "    </tr>\n",
       "    <tr>\n",
       "      <th id=\"T_3ba80_level0_row2\" class=\"row_heading level0 row2\" >RestingBP</th>\n",
       "      <td id=\"T_3ba80_row2_col0\" class=\"data row2 col0\" >0.254399</td>\n",
       "      <td id=\"T_3ba80_row2_col1\" class=\"data row2 col1\" >-0.020647</td>\n",
       "      <td id=\"T_3ba80_row2_col2\" class=\"data row2 col2\" >1.000000</td>\n",
       "      <td id=\"T_3ba80_row2_col3\" class=\"data row2 col3\" >0.100893</td>\n",
       "      <td id=\"T_3ba80_row2_col4\" class=\"data row2 col4\" >0.070193</td>\n",
       "      <td id=\"T_3ba80_row2_col5\" class=\"data row2 col5\" >0.022656</td>\n",
       "      <td id=\"T_3ba80_row2_col6\" class=\"data row2 col6\" >-0.112135</td>\n",
       "      <td id=\"T_3ba80_row2_col7\" class=\"data row2 col7\" >0.164803</td>\n",
       "      <td id=\"T_3ba80_row2_col8\" class=\"data row2 col8\" >-0.075162</td>\n",
       "      <td id=\"T_3ba80_row2_col9\" class=\"data row2 col9\" >0.107589</td>\n",
       "      <td id=\"T_3ba80_row2_col10\" class=\"data row2 col10\" >-0.005133</td>\n",
       "      <td id=\"T_3ba80_row2_col11\" class=\"data row2 col11\" >0.005133</td>\n",
       "      <td id=\"T_3ba80_row2_col12\" class=\"data row2 col12\" >-0.155101</td>\n",
       "      <td id=\"T_3ba80_row2_col13\" class=\"data row2 col13\" >0.155101</td>\n",
       "    </tr>\n",
       "    <tr>\n",
       "      <th id=\"T_3ba80_level0_row3\" class=\"row_heading level0 row3\" >Cholesterol</th>\n",
       "      <td id=\"T_3ba80_row3_col0\" class=\"data row3 col0\" >-0.095282</td>\n",
       "      <td id=\"T_3ba80_row3_col1\" class=\"data row3 col1\" >0.067880</td>\n",
       "      <td id=\"T_3ba80_row3_col2\" class=\"data row3 col2\" >0.100893</td>\n",
       "      <td id=\"T_3ba80_row3_col3\" class=\"data row3 col3\" >1.000000</td>\n",
       "      <td id=\"T_3ba80_row3_col4\" class=\"data row3 col4\" >-0.260974</td>\n",
       "      <td id=\"T_3ba80_row3_col5\" class=\"data row3 col5\" >-0.196544</td>\n",
       "      <td id=\"T_3ba80_row3_col6\" class=\"data row3 col6\" >0.235792</td>\n",
       "      <td id=\"T_3ba80_row3_col7\" class=\"data row3 col7\" >0.050148</td>\n",
       "      <td id=\"T_3ba80_row3_col8\" class=\"data row3 col8\" >0.111471</td>\n",
       "      <td id=\"T_3ba80_row3_col9\" class=\"data row3 col9\" >-0.232741</td>\n",
       "      <td id=\"T_3ba80_row3_col10\" class=\"data row3 col10\" >0.200092</td>\n",
       "      <td id=\"T_3ba80_row3_col11\" class=\"data row3 col11\" >-0.200092</td>\n",
       "      <td id=\"T_3ba80_row3_col12\" class=\"data row3 col12\" >0.034166</td>\n",
       "      <td id=\"T_3ba80_row3_col13\" class=\"data row3 col13\" >-0.034166</td>\n",
       "    </tr>\n",
       "    <tr>\n",
       "      <th id=\"T_3ba80_level0_row4\" class=\"row_heading level0 row4\" >FastingBS</th>\n",
       "      <td id=\"T_3ba80_row4_col0\" class=\"data row4 col0\" >0.198039</td>\n",
       "      <td id=\"T_3ba80_row4_col1\" class=\"data row4 col1\" >-0.073151</td>\n",
       "      <td id=\"T_3ba80_row4_col2\" class=\"data row4 col2\" >0.070193</td>\n",
       "      <td id=\"T_3ba80_row4_col3\" class=\"data row4 col3\" >-0.260974</td>\n",
       "      <td id=\"T_3ba80_row4_col4\" class=\"data row4 col4\" >1.000000</td>\n",
       "      <td id=\"T_3ba80_row4_col5\" class=\"data row4 col5\" >0.087050</td>\n",
       "      <td id=\"T_3ba80_row4_col6\" class=\"data row4 col6\" >-0.131438</td>\n",
       "      <td id=\"T_3ba80_row4_col7\" class=\"data row4 col7\" >0.052698</td>\n",
       "      <td id=\"T_3ba80_row4_col8\" class=\"data row4 col8\" >-0.175774</td>\n",
       "      <td id=\"T_3ba80_row4_col9\" class=\"data row4 col9\" >0.267291</td>\n",
       "      <td id=\"T_3ba80_row4_col10\" class=\"data row4 col10\" >-0.120076</td>\n",
       "      <td id=\"T_3ba80_row4_col11\" class=\"data row4 col11\" >0.120076</td>\n",
       "      <td id=\"T_3ba80_row4_col12\" class=\"data row4 col12\" >-0.060451</td>\n",
       "      <td id=\"T_3ba80_row4_col13\" class=\"data row4 col13\" >0.060451</td>\n",
       "    </tr>\n",
       "    <tr>\n",
       "      <th id=\"T_3ba80_level0_row5\" class=\"row_heading level0 row5\" >RestingECG</th>\n",
       "      <td id=\"T_3ba80_row5_col0\" class=\"data row5 col0\" >-0.007484</td>\n",
       "      <td id=\"T_3ba80_row5_col1\" class=\"data row5 col1\" >-0.072537</td>\n",
       "      <td id=\"T_3ba80_row5_col2\" class=\"data row5 col2\" >0.022656</td>\n",
       "      <td id=\"T_3ba80_row5_col3\" class=\"data row5 col3\" >-0.196544</td>\n",
       "      <td id=\"T_3ba80_row5_col4\" class=\"data row5 col4\" >0.087050</td>\n",
       "      <td id=\"T_3ba80_row5_col5\" class=\"data row5 col5\" >1.000000</td>\n",
       "      <td id=\"T_3ba80_row5_col6\" class=\"data row5 col6\" >-0.179276</td>\n",
       "      <td id=\"T_3ba80_row5_col7\" class=\"data row5 col7\" >-0.020438</td>\n",
       "      <td id=\"T_3ba80_row5_col8\" class=\"data row5 col8\" >-0.006778</td>\n",
       "      <td id=\"T_3ba80_row5_col9\" class=\"data row5 col9\" >0.057384</td>\n",
       "      <td id=\"T_3ba80_row5_col10\" class=\"data row5 col10\" >-0.071552</td>\n",
       "      <td id=\"T_3ba80_row5_col11\" class=\"data row5 col11\" >0.071552</td>\n",
       "      <td id=\"T_3ba80_row5_col12\" class=\"data row5 col12\" >-0.077500</td>\n",
       "      <td id=\"T_3ba80_row5_col13\" class=\"data row5 col13\" >0.077500</td>\n",
       "    </tr>\n",
       "    <tr>\n",
       "      <th id=\"T_3ba80_level0_row6\" class=\"row_heading level0 row6\" >MaxHR</th>\n",
       "      <td id=\"T_3ba80_row6_col0\" class=\"data row6 col0\" >-0.382045</td>\n",
       "      <td id=\"T_3ba80_row6_col1\" class=\"data row6 col1\" >0.289123</td>\n",
       "      <td id=\"T_3ba80_row6_col2\" class=\"data row6 col2\" >-0.112135</td>\n",
       "      <td id=\"T_3ba80_row6_col3\" class=\"data row6 col3\" >0.235792</td>\n",
       "      <td id=\"T_3ba80_row6_col4\" class=\"data row6 col4\" >-0.131438</td>\n",
       "      <td id=\"T_3ba80_row6_col5\" class=\"data row6 col5\" >-0.179276</td>\n",
       "      <td id=\"T_3ba80_row6_col6\" class=\"data row6 col6\" >1.000000</td>\n",
       "      <td id=\"T_3ba80_row6_col7\" class=\"data row6 col7\" >-0.160691</td>\n",
       "      <td id=\"T_3ba80_row6_col8\" class=\"data row6 col8\" >0.343419</td>\n",
       "      <td id=\"T_3ba80_row6_col9\" class=\"data row6 col9\" >-0.400421</td>\n",
       "      <td id=\"T_3ba80_row6_col10\" class=\"data row6 col10\" >0.189186</td>\n",
       "      <td id=\"T_3ba80_row6_col11\" class=\"data row6 col11\" >-0.189186</td>\n",
       "      <td id=\"T_3ba80_row6_col12\" class=\"data row6 col12\" >0.370425</td>\n",
       "      <td id=\"T_3ba80_row6_col13\" class=\"data row6 col13\" >-0.370425</td>\n",
       "    </tr>\n",
       "    <tr>\n",
       "      <th id=\"T_3ba80_level0_row7\" class=\"row_heading level0 row7\" >Oldpeak</th>\n",
       "      <td id=\"T_3ba80_row7_col0\" class=\"data row7 col0\" >0.258612</td>\n",
       "      <td id=\"T_3ba80_row7_col1\" class=\"data row7 col1\" >-0.177377</td>\n",
       "      <td id=\"T_3ba80_row7_col2\" class=\"data row7 col2\" >0.164803</td>\n",
       "      <td id=\"T_3ba80_row7_col3\" class=\"data row7 col3\" >0.050148</td>\n",
       "      <td id=\"T_3ba80_row7_col4\" class=\"data row7 col4\" >0.052698</td>\n",
       "      <td id=\"T_3ba80_row7_col5\" class=\"data row7 col5\" >-0.020438</td>\n",
       "      <td id=\"T_3ba80_row7_col6\" class=\"data row7 col6\" >-0.160691</td>\n",
       "      <td id=\"T_3ba80_row7_col7\" class=\"data row7 col7\" >1.000000</td>\n",
       "      <td id=\"T_3ba80_row7_col8\" class=\"data row7 col8\" >-0.501921</td>\n",
       "      <td id=\"T_3ba80_row7_col9\" class=\"data row7 col9\" >0.403951</td>\n",
       "      <td id=\"T_3ba80_row7_col10\" class=\"data row7 col10\" >-0.105734</td>\n",
       "      <td id=\"T_3ba80_row7_col11\" class=\"data row7 col11\" >0.105734</td>\n",
       "      <td id=\"T_3ba80_row7_col12\" class=\"data row7 col12\" >-0.408752</td>\n",
       "      <td id=\"T_3ba80_row7_col13\" class=\"data row7 col13\" >0.408752</td>\n",
       "    </tr>\n",
       "    <tr>\n",
       "      <th id=\"T_3ba80_level0_row8\" class=\"row_heading level0 row8\" >ST_Slope</th>\n",
       "      <td id=\"T_3ba80_row8_col0\" class=\"data row8 col0\" >-0.268264</td>\n",
       "      <td id=\"T_3ba80_row8_col1\" class=\"data row8 col1\" >0.213521</td>\n",
       "      <td id=\"T_3ba80_row8_col2\" class=\"data row8 col2\" >-0.075162</td>\n",
       "      <td id=\"T_3ba80_row8_col3\" class=\"data row8 col3\" >0.111471</td>\n",
       "      <td id=\"T_3ba80_row8_col4\" class=\"data row8 col4\" >-0.175774</td>\n",
       "      <td id=\"T_3ba80_row8_col5\" class=\"data row8 col5\" >-0.006778</td>\n",
       "      <td id=\"T_3ba80_row8_col6\" class=\"data row8 col6\" >0.343419</td>\n",
       "      <td id=\"T_3ba80_row8_col7\" class=\"data row8 col7\" >-0.501921</td>\n",
       "      <td id=\"T_3ba80_row8_col8\" class=\"data row8 col8\" >1.000000</td>\n",
       "      <td id=\"T_3ba80_row8_col9\" class=\"data row8 col9\" >-0.558771</td>\n",
       "      <td id=\"T_3ba80_row8_col10\" class=\"data row8 col10\" >0.150693</td>\n",
       "      <td id=\"T_3ba80_row8_col11\" class=\"data row8 col11\" >-0.150693</td>\n",
       "      <td id=\"T_3ba80_row8_col12\" class=\"data row8 col12\" >0.428706</td>\n",
       "      <td id=\"T_3ba80_row8_col13\" class=\"data row8 col13\" >-0.428706</td>\n",
       "    </tr>\n",
       "    <tr>\n",
       "      <th id=\"T_3ba80_level0_row9\" class=\"row_heading level0 row9\" >HeartDisease</th>\n",
       "      <td id=\"T_3ba80_row9_col0\" class=\"data row9 col0\" >0.282039</td>\n",
       "      <td id=\"T_3ba80_row9_col1\" class=\"data row9 col1\" >-0.386828</td>\n",
       "      <td id=\"T_3ba80_row9_col2\" class=\"data row9 col2\" >0.107589</td>\n",
       "      <td id=\"T_3ba80_row9_col3\" class=\"data row9 col3\" >-0.232741</td>\n",
       "      <td id=\"T_3ba80_row9_col4\" class=\"data row9 col4\" >0.267291</td>\n",
       "      <td id=\"T_3ba80_row9_col5\" class=\"data row9 col5\" >0.057384</td>\n",
       "      <td id=\"T_3ba80_row9_col6\" class=\"data row9 col6\" >-0.400421</td>\n",
       "      <td id=\"T_3ba80_row9_col7\" class=\"data row9 col7\" >0.403951</td>\n",
       "      <td id=\"T_3ba80_row9_col8\" class=\"data row9 col8\" >-0.558771</td>\n",
       "      <td id=\"T_3ba80_row9_col9\" class=\"data row9 col9\" >1.000000</td>\n",
       "      <td id=\"T_3ba80_row9_col10\" class=\"data row9 col10\" >-0.305445</td>\n",
       "      <td id=\"T_3ba80_row9_col11\" class=\"data row9 col11\" >0.305445</td>\n",
       "      <td id=\"T_3ba80_row9_col12\" class=\"data row9 col12\" >-0.494282</td>\n",
       "      <td id=\"T_3ba80_row9_col13\" class=\"data row9 col13\" >0.494282</td>\n",
       "    </tr>\n",
       "    <tr>\n",
       "      <th id=\"T_3ba80_level0_row10\" class=\"row_heading level0 row10\" >Sex_F</th>\n",
       "      <td id=\"T_3ba80_row10_col0\" class=\"data row10 col0\" >-0.055750</td>\n",
       "      <td id=\"T_3ba80_row10_col1\" class=\"data row10 col1\" >0.126559</td>\n",
       "      <td id=\"T_3ba80_row10_col2\" class=\"data row10 col2\" >-0.005133</td>\n",
       "      <td id=\"T_3ba80_row10_col3\" class=\"data row10 col3\" >0.200092</td>\n",
       "      <td id=\"T_3ba80_row10_col4\" class=\"data row10 col4\" >-0.120076</td>\n",
       "      <td id=\"T_3ba80_row10_col5\" class=\"data row10 col5\" >-0.071552</td>\n",
       "      <td id=\"T_3ba80_row10_col6\" class=\"data row10 col6\" >0.189186</td>\n",
       "      <td id=\"T_3ba80_row10_col7\" class=\"data row10 col7\" >-0.105734</td>\n",
       "      <td id=\"T_3ba80_row10_col8\" class=\"data row10 col8\" >0.150693</td>\n",
       "      <td id=\"T_3ba80_row10_col9\" class=\"data row10 col9\" >-0.305445</td>\n",
       "      <td id=\"T_3ba80_row10_col10\" class=\"data row10 col10\" >1.000000</td>\n",
       "      <td id=\"T_3ba80_row10_col11\" class=\"data row10 col11\" >-1.000000</td>\n",
       "      <td id=\"T_3ba80_row10_col12\" class=\"data row10 col12\" >0.190664</td>\n",
       "      <td id=\"T_3ba80_row10_col13\" class=\"data row10 col13\" >-0.190664</td>\n",
       "    </tr>\n",
       "    <tr>\n",
       "      <th id=\"T_3ba80_level0_row11\" class=\"row_heading level0 row11\" >Sex_M</th>\n",
       "      <td id=\"T_3ba80_row11_col0\" class=\"data row11 col0\" >0.055750</td>\n",
       "      <td id=\"T_3ba80_row11_col1\" class=\"data row11 col1\" >-0.126559</td>\n",
       "      <td id=\"T_3ba80_row11_col2\" class=\"data row11 col2\" >0.005133</td>\n",
       "      <td id=\"T_3ba80_row11_col3\" class=\"data row11 col3\" >-0.200092</td>\n",
       "      <td id=\"T_3ba80_row11_col4\" class=\"data row11 col4\" >0.120076</td>\n",
       "      <td id=\"T_3ba80_row11_col5\" class=\"data row11 col5\" >0.071552</td>\n",
       "      <td id=\"T_3ba80_row11_col6\" class=\"data row11 col6\" >-0.189186</td>\n",
       "      <td id=\"T_3ba80_row11_col7\" class=\"data row11 col7\" >0.105734</td>\n",
       "      <td id=\"T_3ba80_row11_col8\" class=\"data row11 col8\" >-0.150693</td>\n",
       "      <td id=\"T_3ba80_row11_col9\" class=\"data row11 col9\" >0.305445</td>\n",
       "      <td id=\"T_3ba80_row11_col10\" class=\"data row11 col10\" >-1.000000</td>\n",
       "      <td id=\"T_3ba80_row11_col11\" class=\"data row11 col11\" >1.000000</td>\n",
       "      <td id=\"T_3ba80_row11_col12\" class=\"data row11 col12\" >-0.190664</td>\n",
       "      <td id=\"T_3ba80_row11_col13\" class=\"data row11 col13\" >0.190664</td>\n",
       "    </tr>\n",
       "    <tr>\n",
       "      <th id=\"T_3ba80_level0_row12\" class=\"row_heading level0 row12\" >ExerciseAngina_N</th>\n",
       "      <td id=\"T_3ba80_row12_col0\" class=\"data row12 col0\" >-0.215793</td>\n",
       "      <td id=\"T_3ba80_row12_col1\" class=\"data row12 col1\" >0.354727</td>\n",
       "      <td id=\"T_3ba80_row12_col2\" class=\"data row12 col2\" >-0.155101</td>\n",
       "      <td id=\"T_3ba80_row12_col3\" class=\"data row12 col3\" >0.034166</td>\n",
       "      <td id=\"T_3ba80_row12_col4\" class=\"data row12 col4\" >-0.060451</td>\n",
       "      <td id=\"T_3ba80_row12_col5\" class=\"data row12 col5\" >-0.077500</td>\n",
       "      <td id=\"T_3ba80_row12_col6\" class=\"data row12 col6\" >0.370425</td>\n",
       "      <td id=\"T_3ba80_row12_col7\" class=\"data row12 col7\" >-0.408752</td>\n",
       "      <td id=\"T_3ba80_row12_col8\" class=\"data row12 col8\" >0.428706</td>\n",
       "      <td id=\"T_3ba80_row12_col9\" class=\"data row12 col9\" >-0.494282</td>\n",
       "      <td id=\"T_3ba80_row12_col10\" class=\"data row12 col10\" >0.190664</td>\n",
       "      <td id=\"T_3ba80_row12_col11\" class=\"data row12 col11\" >-0.190664</td>\n",
       "      <td id=\"T_3ba80_row12_col12\" class=\"data row12 col12\" >1.000000</td>\n",
       "      <td id=\"T_3ba80_row12_col13\" class=\"data row12 col13\" >-1.000000</td>\n",
       "    </tr>\n",
       "    <tr>\n",
       "      <th id=\"T_3ba80_level0_row13\" class=\"row_heading level0 row13\" >ExerciseAngina_Y</th>\n",
       "      <td id=\"T_3ba80_row13_col0\" class=\"data row13 col0\" >0.215793</td>\n",
       "      <td id=\"T_3ba80_row13_col1\" class=\"data row13 col1\" >-0.354727</td>\n",
       "      <td id=\"T_3ba80_row13_col2\" class=\"data row13 col2\" >0.155101</td>\n",
       "      <td id=\"T_3ba80_row13_col3\" class=\"data row13 col3\" >-0.034166</td>\n",
       "      <td id=\"T_3ba80_row13_col4\" class=\"data row13 col4\" >0.060451</td>\n",
       "      <td id=\"T_3ba80_row13_col5\" class=\"data row13 col5\" >0.077500</td>\n",
       "      <td id=\"T_3ba80_row13_col6\" class=\"data row13 col6\" >-0.370425</td>\n",
       "      <td id=\"T_3ba80_row13_col7\" class=\"data row13 col7\" >0.408752</td>\n",
       "      <td id=\"T_3ba80_row13_col8\" class=\"data row13 col8\" >-0.428706</td>\n",
       "      <td id=\"T_3ba80_row13_col9\" class=\"data row13 col9\" >0.494282</td>\n",
       "      <td id=\"T_3ba80_row13_col10\" class=\"data row13 col10\" >-0.190664</td>\n",
       "      <td id=\"T_3ba80_row13_col11\" class=\"data row13 col11\" >0.190664</td>\n",
       "      <td id=\"T_3ba80_row13_col12\" class=\"data row13 col12\" >-1.000000</td>\n",
       "      <td id=\"T_3ba80_row13_col13\" class=\"data row13 col13\" >1.000000</td>\n",
       "    </tr>\n",
       "  </tbody>\n",
       "</table>\n"
      ],
      "text/plain": [
       "<pandas.io.formats.style.Styler at 0x214e06fea00>"
      ]
     },
     "execution_count": 21,
     "metadata": {},
     "output_type": "execute_result"
    }
   ],
   "source": [
    "# finding the relationship between the categories\n",
    "corr = data.corr()                              #the lighter the color, the higher the correllation.\n",
    "corr.style.background_gradient(cmap = 'OrRd_r')"
   ]
  },
  {
   "cell_type": "markdown",
   "id": "38021432",
   "metadata": {},
   "source": [
    "#### There appears to be no strong relationship between the variables."
   ]
  },
  {
   "cell_type": "markdown",
   "id": "a16f1ea9",
   "metadata": {},
   "source": [
    "### 3. Creating a dataframe and filter only those diagnosed with heartdisease"
   ]
  },
  {
   "cell_type": "code",
   "execution_count": 116,
   "id": "6e0f6f26",
   "metadata": {},
   "outputs": [
    {
     "data": {
      "text/html": [
       "<div>\n",
       "<style scoped>\n",
       "    .dataframe tbody tr th:only-of-type {\n",
       "        vertical-align: middle;\n",
       "    }\n",
       "\n",
       "    .dataframe tbody tr th {\n",
       "        vertical-align: top;\n",
       "    }\n",
       "\n",
       "    .dataframe thead th {\n",
       "        text-align: right;\n",
       "    }\n",
       "</style>\n",
       "<table border=\"1\" class=\"dataframe\">\n",
       "  <thead>\n",
       "    <tr style=\"text-align: right;\">\n",
       "      <th></th>\n",
       "      <th>Age</th>\n",
       "      <th>ChestPainType</th>\n",
       "      <th>RestingBP</th>\n",
       "      <th>Cholesterol</th>\n",
       "      <th>FastingBS</th>\n",
       "      <th>RestingECG</th>\n",
       "      <th>MaxHR</th>\n",
       "      <th>Oldpeak</th>\n",
       "      <th>ST_Slope</th>\n",
       "      <th>HeartDisease</th>\n",
       "      <th>Sex_F</th>\n",
       "      <th>Sex_M</th>\n",
       "      <th>ExerciseAngina_N</th>\n",
       "      <th>ExerciseAngina_Y</th>\n",
       "    </tr>\n",
       "  </thead>\n",
       "  <tbody>\n",
       "    <tr>\n",
       "      <th>1</th>\n",
       "      <td>49</td>\n",
       "      <td>2</td>\n",
       "      <td>160</td>\n",
       "      <td>180</td>\n",
       "      <td>0</td>\n",
       "      <td>1</td>\n",
       "      <td>156</td>\n",
       "      <td>1.0</td>\n",
       "      <td>1</td>\n",
       "      <td>1</td>\n",
       "      <td>1</td>\n",
       "      <td>0</td>\n",
       "      <td>1</td>\n",
       "      <td>0</td>\n",
       "    </tr>\n",
       "    <tr>\n",
       "      <th>3</th>\n",
       "      <td>48</td>\n",
       "      <td>0</td>\n",
       "      <td>138</td>\n",
       "      <td>214</td>\n",
       "      <td>0</td>\n",
       "      <td>1</td>\n",
       "      <td>108</td>\n",
       "      <td>1.5</td>\n",
       "      <td>1</td>\n",
       "      <td>1</td>\n",
       "      <td>1</td>\n",
       "      <td>0</td>\n",
       "      <td>0</td>\n",
       "      <td>1</td>\n",
       "    </tr>\n",
       "    <tr>\n",
       "      <th>8</th>\n",
       "      <td>37</td>\n",
       "      <td>0</td>\n",
       "      <td>140</td>\n",
       "      <td>207</td>\n",
       "      <td>0</td>\n",
       "      <td>1</td>\n",
       "      <td>130</td>\n",
       "      <td>1.5</td>\n",
       "      <td>1</td>\n",
       "      <td>1</td>\n",
       "      <td>0</td>\n",
       "      <td>1</td>\n",
       "      <td>0</td>\n",
       "      <td>1</td>\n",
       "    </tr>\n",
       "    <tr>\n",
       "      <th>11</th>\n",
       "      <td>58</td>\n",
       "      <td>1</td>\n",
       "      <td>136</td>\n",
       "      <td>164</td>\n",
       "      <td>0</td>\n",
       "      <td>2</td>\n",
       "      <td>99</td>\n",
       "      <td>2.0</td>\n",
       "      <td>1</td>\n",
       "      <td>1</td>\n",
       "      <td>0</td>\n",
       "      <td>1</td>\n",
       "      <td>0</td>\n",
       "      <td>1</td>\n",
       "    </tr>\n",
       "    <tr>\n",
       "      <th>13</th>\n",
       "      <td>49</td>\n",
       "      <td>0</td>\n",
       "      <td>140</td>\n",
       "      <td>234</td>\n",
       "      <td>0</td>\n",
       "      <td>1</td>\n",
       "      <td>140</td>\n",
       "      <td>1.0</td>\n",
       "      <td>1</td>\n",
       "      <td>1</td>\n",
       "      <td>0</td>\n",
       "      <td>1</td>\n",
       "      <td>0</td>\n",
       "      <td>1</td>\n",
       "    </tr>\n",
       "    <tr>\n",
       "      <th>...</th>\n",
       "      <td>...</td>\n",
       "      <td>...</td>\n",
       "      <td>...</td>\n",
       "      <td>...</td>\n",
       "      <td>...</td>\n",
       "      <td>...</td>\n",
       "      <td>...</td>\n",
       "      <td>...</td>\n",
       "      <td>...</td>\n",
       "      <td>...</td>\n",
       "      <td>...</td>\n",
       "      <td>...</td>\n",
       "      <td>...</td>\n",
       "      <td>...</td>\n",
       "    </tr>\n",
       "    <tr>\n",
       "      <th>912</th>\n",
       "      <td>57</td>\n",
       "      <td>0</td>\n",
       "      <td>140</td>\n",
       "      <td>241</td>\n",
       "      <td>0</td>\n",
       "      <td>1</td>\n",
       "      <td>123</td>\n",
       "      <td>0.2</td>\n",
       "      <td>1</td>\n",
       "      <td>1</td>\n",
       "      <td>1</td>\n",
       "      <td>0</td>\n",
       "      <td>0</td>\n",
       "      <td>1</td>\n",
       "    </tr>\n",
       "    <tr>\n",
       "      <th>913</th>\n",
       "      <td>45</td>\n",
       "      <td>3</td>\n",
       "      <td>110</td>\n",
       "      <td>264</td>\n",
       "      <td>0</td>\n",
       "      <td>1</td>\n",
       "      <td>132</td>\n",
       "      <td>1.2</td>\n",
       "      <td>1</td>\n",
       "      <td>1</td>\n",
       "      <td>0</td>\n",
       "      <td>1</td>\n",
       "      <td>1</td>\n",
       "      <td>0</td>\n",
       "    </tr>\n",
       "    <tr>\n",
       "      <th>914</th>\n",
       "      <td>68</td>\n",
       "      <td>0</td>\n",
       "      <td>144</td>\n",
       "      <td>193</td>\n",
       "      <td>1</td>\n",
       "      <td>1</td>\n",
       "      <td>141</td>\n",
       "      <td>3.4</td>\n",
       "      <td>1</td>\n",
       "      <td>1</td>\n",
       "      <td>0</td>\n",
       "      <td>1</td>\n",
       "      <td>1</td>\n",
       "      <td>0</td>\n",
       "    </tr>\n",
       "    <tr>\n",
       "      <th>915</th>\n",
       "      <td>57</td>\n",
       "      <td>0</td>\n",
       "      <td>130</td>\n",
       "      <td>131</td>\n",
       "      <td>0</td>\n",
       "      <td>1</td>\n",
       "      <td>115</td>\n",
       "      <td>1.2</td>\n",
       "      <td>1</td>\n",
       "      <td>1</td>\n",
       "      <td>0</td>\n",
       "      <td>1</td>\n",
       "      <td>0</td>\n",
       "      <td>1</td>\n",
       "    </tr>\n",
       "    <tr>\n",
       "      <th>916</th>\n",
       "      <td>57</td>\n",
       "      <td>1</td>\n",
       "      <td>130</td>\n",
       "      <td>236</td>\n",
       "      <td>0</td>\n",
       "      <td>0</td>\n",
       "      <td>174</td>\n",
       "      <td>0.0</td>\n",
       "      <td>1</td>\n",
       "      <td>1</td>\n",
       "      <td>1</td>\n",
       "      <td>0</td>\n",
       "      <td>1</td>\n",
       "      <td>0</td>\n",
       "    </tr>\n",
       "  </tbody>\n",
       "</table>\n",
       "<p>508 rows × 14 columns</p>\n",
       "</div>"
      ],
      "text/plain": [
       "     Age  ChestPainType  RestingBP  Cholesterol  FastingBS  RestingECG  MaxHR  \\\n",
       "1     49              2        160          180          0           1    156   \n",
       "3     48              0        138          214          0           1    108   \n",
       "8     37              0        140          207          0           1    130   \n",
       "11    58              1        136          164          0           2     99   \n",
       "13    49              0        140          234          0           1    140   \n",
       "..   ...            ...        ...          ...        ...         ...    ...   \n",
       "912   57              0        140          241          0           1    123   \n",
       "913   45              3        110          264          0           1    132   \n",
       "914   68              0        144          193          1           1    141   \n",
       "915   57              0        130          131          0           1    115   \n",
       "916   57              1        130          236          0           0    174   \n",
       "\n",
       "     Oldpeak  ST_Slope  HeartDisease  Sex_F  Sex_M  ExerciseAngina_N  \\\n",
       "1        1.0         1             1      1      0                 1   \n",
       "3        1.5         1             1      1      0                 0   \n",
       "8        1.5         1             1      0      1                 0   \n",
       "11       2.0         1             1      0      1                 0   \n",
       "13       1.0         1             1      0      1                 0   \n",
       "..       ...       ...           ...    ...    ...               ...   \n",
       "912      0.2         1             1      1      0                 0   \n",
       "913      1.2         1             1      0      1                 1   \n",
       "914      3.4         1             1      0      1                 1   \n",
       "915      1.2         1             1      0      1                 0   \n",
       "916      0.0         1             1      1      0                 1   \n",
       "\n",
       "     ExerciseAngina_Y  \n",
       "1                   0  \n",
       "3                   1  \n",
       "8                   1  \n",
       "11                  1  \n",
       "13                  1  \n",
       "..                ...  \n",
       "912                 1  \n",
       "913                 0  \n",
       "914                 0  \n",
       "915                 1  \n",
       "916                 0  \n",
       "\n",
       "[508 rows x 14 columns]"
      ]
     },
     "execution_count": 116,
     "metadata": {},
     "output_type": "execute_result"
    }
   ],
   "source": [
    "df= (data[\"HeartDisease\"] == 1)\n",
    "data[df]"
   ]
  },
  {
   "cell_type": "markdown",
   "id": "25db91fc",
   "metadata": {},
   "source": [
    "### From our analysis, there is no positive correlation between all attributes and developing a heart disease\n",
    "\n",
    "### 2. What is the distribution of the disease among Male and Females?\n",
    "\n"
   ]
  },
  {
   "cell_type": "code",
   "execution_count": 135,
   "id": "95f12bcd",
   "metadata": {},
   "outputs": [
    {
     "data": {
      "text/plain": [
       "<AxesSubplot:ylabel='Frequency'>"
      ]
     },
     "execution_count": 135,
     "metadata": {},
     "output_type": "execute_result"
    },
    {
     "data": {
      "image/png": "[encoded data removed]",
      "text/plain": [
       "<Figure size 432x288 with 1 Axes>"
      ]
     },
     "metadata": {
      "needs_background": "light"
     },
     "output_type": "display_data"
    }
   ],
   "source": [
    "data[df].groupby([\"Sex_M\", \"Sex_F\"])[\"HeartDisease\"].count()"
   ]
  },
  {
   "cell_type": "markdown",
   "id": "47dabeab",
   "metadata": {},
   "source": [
    "### Among those who were diagnosed with Heart Disease; 50 of them were Females while 458 are males"
   ]
  },
  {
   "cell_type": "code",
   "execution_count": 48,
   "id": "cf43848b",
   "metadata": {},
   "outputs": [
    {
     "data": {
      "text/plain": [
       "<AxesSubplot:xlabel='HeartDisease', ylabel='Age'>"
      ]
     },
     "execution_count": 48,
     "metadata": {},
     "output_type": "execute_result"
    },
    {
     "data": {
      "image/png": "[encoded data removed]",
      "text/plain": [
       "<Figure size 432x288 with 1 Axes>"
      ]
     },
     "metadata": {
      "needs_background": "light"
     },
     "output_type": "display_data"
    }
   ],
   "source": [
    "sns.boxplot(data =data, x=\"HeartDisease\", y=\"Age\")"
   ]
  },
  {
   "cell_type": "markdown",
   "id": "82501e49",
   "metadata": {},
   "source": [
    "### We know from this that although no underaged was diagnosed of the disease. there are a few under 40s (between 30 and 35 years) who were diagnosed. They were the outliers. The median age of those who were diagnosed is a little above 60 years."
   ]
  },
  {
   "cell_type": "code",
   "execution_count": 109,
   "id": "cdaabb11",
   "metadata": {},
   "outputs": [
    {
     "data": {
      "text/plain": [
       "<AxesSubplot:xlabel='ST_Slope', ylabel='Cholesterol'>"
      ]
     },
     "execution_count": 109,
     "metadata": {},
     "output_type": "execute_result"
    },
    {
     "data": {
      "image/png": "[encoded data removed]",
      "text/plain": [
       "<Figure size 432x288 with 1 Axes>"
      ]
     },
     "metadata": {
      "needs_background": "light"
     },
     "output_type": "display_data"
    }
   ],
   "source": [
    "sns.boxplot(x = 'ST_Slope', y ='Cholesterol', data = data)"
   ]
  },
  {
   "cell_type": "markdown",
   "id": "b11107e5",
   "metadata": {},
   "source": [
    "#### The cholesterol levels are represented by the points on the y-axis. For the first class of the ST_Slope, the maximum cholesterol level is around 480  and there are no outliers. But for the second and third class, there are outliers even though these last two classes seem to have the same median."
   ]
  },
  {
   "cell_type": "markdown",
   "id": "5c860cc5",
   "metadata": {},
   "source": [
    "### There are quite a number of outliers in the RestingBP column and the MaxHR column."
   ]
  },
  {
   "cell_type": "code",
   "execution_count": 140,
   "id": "a668d25d",
   "metadata": {},
   "outputs": [
    {
     "data": {
      "text/plain": [
       "<seaborn.axisgrid.FacetGrid at 0x214f9f69bb0>"
      ]
     },
     "execution_count": 140,
     "metadata": {},
     "output_type": "execute_result"
    },
    {
     "data": {
      "image/png": "[encoded data removed]",
      "text/plain": [
       "<Figure size 360x360 with 1 Axes>"
      ]
     },
     "metadata": {
      "needs_background": "light"
     },
     "output_type": "display_data"
    }
   ],
   "source": [
    "# Using the female and male sexes to color the graph representing the distribution of the RestingBp and Age.\n",
    "sns.catplot(x = 'RestingBP', y = 'Age', hue_order = ['Sex_F', 'Sex_M'], data = data)"
   ]
  },
  {
   "cell_type": "code",
   "execution_count": 25,
   "id": "f95e7deb",
   "metadata": {},
   "outputs": [
    {
     "data": {
      "text/plain": [
       "<AxesSubplot:xlabel='Cholesterol', ylabel='Age'>"
      ]
     },
     "execution_count": 25,
     "metadata": {},
     "output_type": "execute_result"
    },
    {
     "data": {
      "image/png": "[encoded data removed]",
      "text/plain": [
       "<Figure size 432x288 with 1 Axes>"
      ]
     },
     "metadata": {
      "needs_background": "light"
     },
     "output_type": "display_data"
    }
   ],
   "source": [
    "# Using the female and male sexes to color the graph representing the distribution of the Cholesterol versus Age.\n",
    "sns.stripplot(x = 'Cholesterol', y = 'Age', hue_order = ['Sex_F', 'Sex_M'], data = data)"
   ]
  },
  {
   "cell_type": "code",
   "execution_count": 81,
   "id": "80401acc",
   "metadata": {},
   "outputs": [
    {
     "data": {
      "text/plain": [
       "<AxesSubplot:xlabel='Oldpeak', ylabel='Age'>"
      ]
     },
     "execution_count": 81,
     "metadata": {},
     "output_type": "execute_result"
    },
    {
     "data": {
      "image/png": "[encoded data removed]",
      "text/plain": [
       "<Figure size 432x288 with 1 Axes>"
      ]
     },
     "metadata": {
      "needs_background": "light"
     },
     "output_type": "display_data"
    }
   ],
   "source": [
    "# Using the 'positive ExerciseAngina' column to color the graph representing the relationship between Old peak and Age.\n",
    "sns.scatterplot(x = 'Oldpeak', y = 'Age', hue = 'ExerciseAngina_Y', data = data)"
   ]
  },
  {
   "cell_type": "code",
   "execution_count": 90,
   "id": "57d11988",
   "metadata": {},
   "outputs": [
    {
     "data": {
      "text/plain": [
       "<AxesSubplot:xlabel='RestingBP', ylabel='Cholesterol'>"
      ]
     },
     "execution_count": 90,
     "metadata": {},
     "output_type": "execute_result"
    },
    {
     "data": {
      "image/png": "[encoded data removed]",
      "text/plain": [
       "<Figure size 432x288 with 1 Axes>"
      ]
     },
     "metadata": {
      "needs_background": "light"
     },
     "output_type": "display_data"
    }
   ],
   "source": [
    "# Using the 'negative ExerciseAngina' column to color the graph representing the relationship between Old peak and Age.\n",
    "sns.scatterplot(x = 'RestingBP', y = 'Cholesterol', hue = 'ExerciseAngina_N', data = data)"
   ]
  },
  {
   "cell_type": "markdown",
   "id": "d92d5784",
   "metadata": {},
   "source": [
    "#### This looks clustered"
   ]
  },
  {
   "cell_type": "code",
   "execution_count": 91,
   "id": "76097177",
   "metadata": {},
   "outputs": [
    {
     "data": {
      "text/plain": [
       "<AxesSubplot:xlabel='MaxHR', ylabel='Age'>"
      ]
     },
     "execution_count": 91,
     "metadata": {},
     "output_type": "execute_result"
    },
    {
     "data": {
      "image/png": "[encoded data removed]",
      "text/plain": [
       "<Figure size 432x288 with 1 Axes>"
      ]
     },
     "metadata": {
      "needs_background": "light"
     },
     "output_type": "display_data"
    }
   ],
   "source": [
    "sns.lineplot(x = 'MaxHR', y = 'Age', hue = 'ExerciseAngina_N', data = data)"
   ]
  },
  {
   "cell_type": "code",
   "execution_count": 29,
   "id": "7d5e923c",
   "metadata": {},
   "outputs": [
    {
     "data": {
      "text/plain": [
       "<AxesSubplot:xlabel='MaxHR', ylabel='Age'>"
      ]
     },
     "execution_count": 29,
     "metadata": {},
     "output_type": "execute_result"
    },
    {
     "data": {
      "image/png": "[encoded data removed]",
      "text/plain": [
       "<Figure size 432x288 with 1 Axes>"
      ]
     },
     "metadata": {
      "needs_background": "light"
     },
     "output_type": "display_data"
    }
   ],
   "source": [
    "sns.scatterplot(x = 'MaxHR', y = 'Age', hue = 'ExerciseAngina_Y', data = data)"
   ]
  },
  {
   "cell_type": "code",
   "execution_count": 30,
   "id": "e56e9263",
   "metadata": {},
   "outputs": [
    {
     "data": {
      "text/plain": [
       "<AxesSubplot:xlabel='FastingBS', ylabel='RestingECG'>"
      ]
     },
     "execution_count": 30,
     "metadata": {},
     "output_type": "execute_result"
    },
    {
     "data": {
      "image/png": "[encoded data removed]",
      "text/plain": [
       "<Figure size 432x288 with 1 Axes>"
      ]
     },
     "metadata": {
      "needs_background": "light"
     },
     "output_type": "display_data"
    }
   ],
   "source": [
    "# The error bars are showing the uncertainty levels in these columns using the ST_Slope to color them.\n",
    "sns.pointplot(x = 'FastingBS', y = 'RestingECG', hue = 'ST_Slope' , col = 'HeartDisease', data = data)"
   ]
  },
  {
   "cell_type": "code",
   "execution_count": 95,
   "id": "0c908dca",
   "metadata": {},
   "outputs": [
    {
     "data": {
      "text/plain": [
       "<matplotlib.legend.Legend at 0x214f02c8b20>"
      ]
     },
     "execution_count": 95,
     "metadata": {},
     "output_type": "execute_result"
    },
    {
     "data": {
      "image/png": "[encoded data removed]",
      "text/plain": [
       "<Figure size 432x288 with 1 Axes>"
      ]
     },
     "metadata": {
      "needs_background": "light"
     },
     "output_type": "display_data"
    }
   ],
   "source": [
    "ax = sns.barplot(x=\"FastingBS\", y=\"ST_Slope\", hue= 'RestingECG', data=data)\n",
    "ax.set(ylabel=\"\", xlabel=\"Blood Sugar\")\n",
    "ax.legend(loc='center left', bbox_to_anchor=(1, 0.5))"
   ]
  },
  {
   "cell_type": "markdown",
   "id": "1fb37d96",
   "metadata": {},
   "source": [
    "# Model Prediction"
   ]
  },
  {
   "cell_type": "code",
   "execution_count": 141,
   "id": "e5060e16",
   "metadata": {},
   "outputs": [],
   "source": [
    "from sklearn.model_selection import train_test_split\n",
    "from sklearn.linear_model import LogisticRegression\n",
    "from sklearn.model_selection import cross_val_score\n",
    "from sklearn.model_selection import RepeatedStratifiedKFold\n",
    "from sklearn.neighbors import KNeighborsClassifier"
   ]
  },
  {
   "cell_type": "code",
   "execution_count": 142,
   "id": "b0dc6265",
   "metadata": {},
   "outputs": [],
   "source": [
    "X= data.drop(['HeartDisease'], axis = 1).values\n",
    "y= data['HeartDisease'].values              "
   ]
  },
  {
   "cell_type": "markdown",
   "id": "4e709a4e",
   "metadata": {},
   "source": [
    "# Using Logistic Regression"
   ]
  },
  {
   "cell_type": "code",
   "execution_count": 143,
   "id": "84df08dc",
   "metadata": {},
   "outputs": [],
   "source": [
    "# split to 70% train dataset and 30% test dataset\n",
    "X_train, X_test, y_train, y_test = train_test_split(X, y, test_size = 0.2, random_state = 45)"
   ]
  },
  {
   "cell_type": "code",
   "execution_count": 144,
   "id": "9bb3ef72",
   "metadata": {},
   "outputs": [],
   "source": [
    "clf = LogisticRegression()"
   ]
  },
  {
   "cell_type": "code",
   "execution_count": 145,
   "id": "0a74816b",
   "metadata": {},
   "outputs": [
    {
     "name": "stderr",
     "output_type": "stream",
     "text": [
      "C:\\Users\\TAYO\\anaconda3\\lib\\site-packages\\sklearn\\linear_model\\_logistic.py:814: ConvergenceWarning: lbfgs failed to converge (status=1):\n",
      "STOP: TOTAL NO. of ITERATIONS REACHED LIMIT.\n",
      "\n",
      "Increase the number of iterations (max_iter) or scale the data as shown in:\n",
      "    https://scikit-learn.org/stable/modules/preprocessing.html\n",
      "Please also refer to the documentation for alternative solver options:\n",
      "    https://scikit-learn.org/stable/modules/linear_model.html#logistic-regression\n",
      "  n_iter_i = _check_optimize_result(\n"
     ]
    }
   ],
   "source": [
    "clf.fit(X_train, y_train)\n",
    "Ypred = clf.predict(X_test)"
   ]
  },
  {
   "cell_type": "code",
   "execution_count": 146,
   "id": "da636c56",
   "metadata": {},
   "outputs": [
    {
     "data": {
      "text/plain": [
       "array([1, 1, 1, 1, 1, 0, 1, 0, 0, 0, 0, 1, 1, 0, 0, 0, 1, 1, 0, 1, 0, 0,\n",
       "       1, 0, 0, 1, 1, 0, 0, 0, 0, 0, 1, 0, 0, 0, 1, 0, 1, 1, 1, 0, 0, 0,\n",
       "       0, 0, 0, 1, 0, 0, 1, 0, 1, 1, 1, 1, 0, 1, 1, 1, 0, 1, 1, 1, 1, 1,\n",
       "       0, 0, 0, 1, 0, 1, 1, 0, 0, 1, 0, 0, 1, 1, 0, 1, 0, 1, 1, 1, 0, 0,\n",
       "       1, 0, 1, 0, 0, 1, 1, 1, 0, 0, 1, 0, 1, 1, 1, 0, 0, 0, 0, 1, 1, 0,\n",
       "       0, 0, 1, 0, 1, 0, 1, 1, 0, 1, 0, 0, 0, 1, 1, 1, 1, 0, 0, 0, 0, 1,\n",
       "       0, 1, 0, 0, 1, 0, 1, 0, 0, 1, 0, 1, 0, 1, 1, 0, 1, 0, 1, 1, 0, 1,\n",
       "       1, 1, 1, 0, 1, 0, 1, 1, 0, 1, 0, 1, 1, 1, 1, 1, 1, 1, 0, 0, 0, 1,\n",
       "       1, 1, 1, 1, 0, 0, 0, 1], dtype=int64)"
      ]
     },
     "execution_count": 146,
     "metadata": {},
     "output_type": "execute_result"
    }
   ],
   "source": [
    "Ypred"
   ]
  },
  {
   "cell_type": "code",
   "execution_count": 147,
   "id": "765c6136",
   "metadata": {},
   "outputs": [
    {
     "data": {
      "text/html": [
       "<div>\n",
       "<style scoped>\n",
       "    .dataframe tbody tr th:only-of-type {\n",
       "        vertical-align: middle;\n",
       "    }\n",
       "\n",
       "    .dataframe tbody tr th {\n",
       "        vertical-align: top;\n",
       "    }\n",
       "\n",
       "    .dataframe thead th {\n",
       "        text-align: right;\n",
       "    }\n",
       "</style>\n",
       "<table border=\"1\" class=\"dataframe\">\n",
       "  <thead>\n",
       "    <tr style=\"text-align: right;\">\n",
       "      <th></th>\n",
       "      <th>predictions</th>\n",
       "    </tr>\n",
       "  </thead>\n",
       "  <tbody>\n",
       "    <tr>\n",
       "      <th>0</th>\n",
       "      <td>1</td>\n",
       "    </tr>\n",
       "    <tr>\n",
       "      <th>1</th>\n",
       "      <td>1</td>\n",
       "    </tr>\n",
       "    <tr>\n",
       "      <th>2</th>\n",
       "      <td>1</td>\n",
       "    </tr>\n",
       "    <tr>\n",
       "      <th>3</th>\n",
       "      <td>1</td>\n",
       "    </tr>\n",
       "    <tr>\n",
       "      <th>4</th>\n",
       "      <td>1</td>\n",
       "    </tr>\n",
       "    <tr>\n",
       "      <th>...</th>\n",
       "      <td>...</td>\n",
       "    </tr>\n",
       "    <tr>\n",
       "      <th>179</th>\n",
       "      <td>1</td>\n",
       "    </tr>\n",
       "    <tr>\n",
       "      <th>180</th>\n",
       "      <td>0</td>\n",
       "    </tr>\n",
       "    <tr>\n",
       "      <th>181</th>\n",
       "      <td>0</td>\n",
       "    </tr>\n",
       "    <tr>\n",
       "      <th>182</th>\n",
       "      <td>0</td>\n",
       "    </tr>\n",
       "    <tr>\n",
       "      <th>183</th>\n",
       "      <td>1</td>\n",
       "    </tr>\n",
       "  </tbody>\n",
       "</table>\n",
       "<p>184 rows × 1 columns</p>\n",
       "</div>"
      ],
      "text/plain": [
       "     predictions\n",
       "0              1\n",
       "1              1\n",
       "2              1\n",
       "3              1\n",
       "4              1\n",
       "..           ...\n",
       "179            1\n",
       "180            0\n",
       "181            0\n",
       "182            0\n",
       "183            1\n",
       "\n",
       "[184 rows x 1 columns]"
      ]
     },
     "execution_count": 147,
     "metadata": {},
     "output_type": "execute_result"
    }
   ],
   "source": [
    "predictions = pd.DataFrame(Ypred).rename(columns= {0: 'predictions'})\n",
    "predictions"
   ]
  },
  {
   "cell_type": "code",
   "execution_count": 149,
   "id": "6037be07",
   "metadata": {},
   "outputs": [
    {
     "name": "stdout",
     "output_type": "stream",
     "text": [
      "              precision    recall  f1-score   support\n",
      "\n",
      "           0       0.87      0.85      0.86        91\n",
      "           1       0.85      0.87      0.86        93\n",
      "\n",
      "    accuracy                           0.86       184\n",
      "   macro avg       0.86      0.86      0.86       184\n",
      "weighted avg       0.86      0.86      0.86       184\n",
      "\n"
     ]
    }
   ],
   "source": [
    "from sklearn.metrics import classification_report\n",
    "print(classification_report(y_test, predictions))"
   ]
  },
  {
   "cell_type": "markdown",
   "id": "11ee526c",
   "metadata": {},
   "source": [
    "# Using Cross Validation"
   ]
  },
  {
   "cell_type": "code",
   "execution_count": 150,
   "id": "c5696d0a",
   "metadata": {},
   "outputs": [
    {
     "data": {
      "text/plain": [
       "array([0.65217391, 0.69565217, 0.85869565, 0.80434783, 0.72826087,\n",
       "       0.60869565, 0.7826087 , 0.66304348, 0.61538462, 0.62637363])"
      ]
     },
     "execution_count": 150,
     "metadata": {},
     "output_type": "execute_result"
    }
   ],
   "source": [
    "model = KNeighborsClassifier()\n",
    "# evaluate the model\n",
    "cv = RepeatedStratifiedKFold(n_splits=10, n_repeats=3, random_state=1)\n",
    "n_scores = cross_val_score(model, X, y, scoring='accuracy', cv=10, n_jobs= -1)\n",
    "n_scores"
   ]
  },
  {
   "cell_type": "code",
   "execution_count": 151,
   "id": "05763d76",
   "metadata": {},
   "outputs": [
    {
     "name": "stdout",
     "output_type": "stream",
     "text": [
      "Cross Validation Scores:  [0.65217391 0.69565217 0.85869565 0.80434783 0.72826087 0.60869565\n",
      " 0.7826087  0.66304348 0.61538462 0.62637363]\n",
      "Average CV Score:  0.7035236502627807\n",
      "Standard Deviation Score:  0.08255943549068515\n",
      "Number of CV Scores used in Average:  10\n"
     ]
    }
   ],
   "source": [
    "print(\"Cross Validation Scores: \", n_scores)\n",
    "print(\"Average CV Score: \", n_scores.mean())\n",
    "print(\"Standard Deviation Score: \", n_scores.std())\n",
    "print(\"Number of CV Scores used in Average: \", len(n_scores))"
   ]
  },
  {
   "cell_type": "code",
   "execution_count": 152,
   "id": "83a5d5fa",
   "metadata": {},
   "outputs": [],
   "source": [
    "from sklearn import metrics"
   ]
  },
  {
   "cell_type": "code",
   "execution_count": 153,
   "id": "bddb0ada",
   "metadata": {},
   "outputs": [],
   "source": [
    "confusion_matrix = metrics.confusion_matrix(y_test, predictions)"
   ]
  },
  {
   "cell_type": "code",
   "execution_count": 154,
   "id": "c613e48a",
   "metadata": {},
   "outputs": [
    {
     "data": {
      "image/png": "[encoded data removed]",
      "text/plain": [
       "<Figure size 432x288 with 2 Axes>"
      ]
     },
     "metadata": {
      "needs_background": "light"
     },
     "output_type": "display_data"
    }
   ],
   "source": [
    "ConfusionMatrix_display = metrics.ConfusionMatrixDisplay(confusion_matrix = confusion_matrix, display_labels = [True, False]).plot()\n",
    "plt.show()"
   ]
  },
  {
   "cell_type": "markdown",
   "id": "0abf73a1",
   "metadata": {},
   "source": [
    "#### From this matrix, out of 184 data points, our model predicted 77 True Positives and 81 True Negatives. 26 datapoints were predicted wrongly with a breakdown as follows: 14 False Positives and 12 False Negatives."
   ]
  },
  {
   "cell_type": "code",
   "execution_count": null,
   "id": "a0ecfead",
   "metadata": {},
   "outputs": [],
   "source": []
  }
 ],
 "metadata": {
  "kernelspec": {
   "display_name": "Python 3 (ipykernel)",
   "language": "python",
   "name": "python3"
  },
  "language_info": {
   "codemirror_mode": {
    "name": "ipython",
    "version": 3
   },
   "file_extension": ".py",
   "mimetype": "text/x-python",
   "name": "python",
   "nbconvert_exporter": "python",
   "pygments_lexer": "ipython3",
   "version": "3.9.12"
  }
 },
 "nbformat": 4,
 "nbformat_minor": 5
}
